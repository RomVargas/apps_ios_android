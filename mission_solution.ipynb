{
 "cells": [
  {
   "cell_type": "markdown",
   "metadata": {},
   "source": [
    "/**********************************************/\n",
    "Ganancias de aplicacion en AppStore y PlayStore\n",
    "/**********************************************/\n",
    "\n",
    "El objetivo de este proyecto es encontrar las ganancias de las palicaciones desplegadas en appstore y playstore\n",
    "\n",
    "- en Septiembre del 2018 había aproximadamente 2 millones de apps disponobles el appStore y 2.1 millones de aplicaciones disponibles en PlayStore\n",
    "\n",
    "- se tienen 2 data sets obtenidos de Kaggle.com\n",
    "\n",
    "- Empecemos por abrir los 2 data sets"
   ]
  },
  {
   "cell_type": "code",
   "execution_count": 209,
   "metadata": {},
   "outputs": [],
   "source": [
    "from csv import reader\n",
    "\n",
    "### The Google Play data set ###\n",
    "opened_file = open('googleplaystore.csv',encoding=\"utf-8\")\n",
    "read_file = reader(opened_file)\n",
    "android = list(read_file)\n",
    "android_header = android[0]\n",
    "android = android[1:]\n",
    "\n",
    "### The App Store data set ###\n",
    "opened_file = open('AppleStore.csv', encoding='utf-8')\n",
    "read_file = reader(opened_file)\n",
    "ios = list(read_file)\n",
    "ios_header = ios[0]\n",
    "ios = ios[1:]"
   ]
  },
  {
   "cell_type": "markdown",
   "metadata": {},
   "source": [
    "para hacer la exploracion más sencilla los data sets, se generara funcion axplore_data() para usarla de forma repetitiva para explorara datos, se muestra numero de filas y columnas para cualquier set de datos."
   ]
  },
  {
   "cell_type": "code",
   "execution_count": 210,
   "metadata": {},
   "outputs": [
    {
     "name": "stdout",
     "output_type": "stream",
     "text": [
      "['App', 'Category', 'Rating', 'Reviews', 'Size', 'Installs', 'Type', 'Price', 'Content Rating', 'Genres', 'Last Updated', 'Current Ver', 'Android Ver']\n",
      "\n",
      "\n",
      "['Photo Editor & Candy Camera & Grid & ScrapBook', 'ART_AND_DESIGN', '4.1', '159', '19M', '10,000+', 'Free', '0', 'Everyone', 'Art & Design', 'January 7, 2018', '1.0.0', '4.0.3 and up']\n",
      "\n",
      "\n",
      "['Coloring book moana', 'ART_AND_DESIGN', '3.9', '967', '14M', '500,000+', 'Free', '0', 'Everyone', 'Art & Design;Pretend Play', 'January 15, 2018', '2.0.0', '4.0.3 and up']\n",
      "\n",
      "\n",
      "['U Launcher Lite – FREE Live Cool Themes, Hide Apps', 'ART_AND_DESIGN', '4.7', '87510', '8.7M', '5,000,000+', 'Free', '0', 'Everyone', 'Art & Design', 'August 1, 2018', '1.2.4', '4.0.3 and up']\n",
      "\n",
      "\n",
      "Numero de lineas: 10841\n",
      "Numero de columnas: 13\n"
     ]
    }
   ],
   "source": [
    "def explore_data(dataset, start, end, rows_and_columns=False):\n",
    "    dataset_slice = dataset[start:end]\n",
    "    for row in dataset_slice:\n",
    "        print(row)\n",
    "        print('\\n')\n",
    "        \n",
    "    if rows_and_columns:\n",
    "        print('Numero de lineas:', len(dataset))\n",
    "        print('Numero de columnas:', len(dataset[0]))\n",
    "\n",
    "print(android_header)\n",
    "print('\\n')\n",
    "explore_data(android, 0, 3, True)"
   ]
  },
  {
   "cell_type": "markdown",
   "metadata": {},
   "source": [
    "verificamos que el data set de Google contiene 10841 apps y 13 columnas, las columnas que pudieran sernos de utilidad son: 'App', 'Category', 'Reviews', 'Installs', 'Type', 'Price', and 'Genres'."
   ]
  },
  {
   "cell_type": "code",
   "execution_count": 211,
   "metadata": {},
   "outputs": [
    {
     "name": "stdout",
     "output_type": "stream",
     "text": [
      "['', 'id', 'track_name', 'size_bytes', 'currency', 'price', 'rating_count_tot', 'rating_count_ver', 'user_rating', 'user_rating_ver', 'ver', 'cont_rating', 'prime_genre', 'sup_devices.num', 'ipadSc_urls.num', 'lang.num', 'vpp_lic']\n",
      "\n",
      "\n",
      "['1', '281656475', 'PAC-MAN Premium', '100788224', 'USD', '3.99', '21292', '26', '4', '4.5', '6.3.5', '4+', 'Games', '38', '5', '10', '1']\n",
      "\n",
      "\n",
      "['2', '281796108', 'Evernote - stay organized', '158578688', 'USD', '0', '161065', '26', '4', '3.5', '8.2.2', '4+', 'Productivity', '37', '5', '23', '1']\n",
      "\n",
      "\n",
      "['3', '281940292', 'WeatherBug - Local Weather, Radar, Maps, Alerts', '100524032', 'USD', '0', '188583', '2822', '3.5', '4.5', '5.0.0', '4+', 'Weather', '37', '5', '3', '1']\n",
      "\n",
      "\n",
      "Numero de lineas: 7197\n",
      "Numero de columnas: 17\n"
     ]
    }
   ],
   "source": [
    "print(ios_header)\n",
    "print('\\n')\n",
    "explore_data(ios, 0, 3, True)"
   ]
  },
  {
   "cell_type": "markdown",
   "metadata": {},
   "source": [
    "verificamos el dataset de iOS que contiene 7197 apps y 16 columnas"
   ]
  },
  {
   "cell_type": "markdown",
   "metadata": {},
   "source": [
    "/***borrar datos erroneos***/, hoy un error en el registro 10472"
   ]
  },
  {
   "cell_type": "code",
   "execution_count": 212,
   "metadata": {},
   "outputs": [
    {
     "name": "stdout",
     "output_type": "stream",
     "text": [
      "['Life Made WI-Fi Touchscreen Photo Frame', '1.9', '19', '3.0M', '1,000+', 'Free', '0', 'Everyone', '', 'February 11, 2018', '1.0.19', '4.0 and up']\n",
      "\n",
      "\n",
      "['App', 'Category', 'Rating', 'Reviews', 'Size', 'Installs', 'Type', 'Price', 'Content Rating', 'Genres', 'Last Updated', 'Current Ver', 'Android Ver']\n",
      "\n",
      "\n",
      "['Photo Editor & Candy Camera & Grid & ScrapBook', 'ART_AND_DESIGN', '4.1', '159', '19M', '10,000+', 'Free', '0', 'Everyone', 'Art & Design', 'January 7, 2018', '1.0.0', '4.0.3 and up']\n"
     ]
    }
   ],
   "source": [
    "print(android[10472])  # linea incorrecto\n",
    "print('\\n')\n",
    "print(android_header)  # header\n",
    "print('\\n')\n",
    "print(android[0])      # linea correcta"
   ]
  },
  {
   "cell_type": "markdown",
   "metadata": {},
   "source": [
    "la lineas 10472 corresponde a la app Life Made WI-Fi Touchscreen Photo Frame, y tiene de rating '19', esto es incorrecto por q la calificacion maxima de Google Play es 5, asi que borramos esta linea."
   ]
  },
  {
   "cell_type": "code",
   "execution_count": 213,
   "metadata": {},
   "outputs": [
    {
     "name": "stdout",
     "output_type": "stream",
     "text": [
      "10841\n",
      "10840\n"
     ]
    }
   ],
   "source": [
    "print(len(android))\n",
    "del android[10472]  # no correr esta lina mas de 1 vez\n",
    "print(len(android))"
   ]
  },
  {
   "cell_type": "markdown",
   "metadata": {},
   "source": [
    "/**** REMOVER DATOS DUPLICADOS ****/\n",
    "\n",
    "PARTE UNO\n",
    "\n",
    "Si exploramos el data set de Google podemos ver apps con más de 1 registro, por ejemplo Instagram"
   ]
  },
  {
   "cell_type": "code",
   "execution_count": 214,
   "metadata": {},
   "outputs": [
    {
     "name": "stdout",
     "output_type": "stream",
     "text": [
      "['Instagram', 'SOCIAL', '4.5', '66577313', 'Varies with device', '1,000,000,000+', 'Free', '0', 'Teen', 'Social', 'July 31, 2018', 'Varies with device', 'Varies with device']\n",
      "['Instagram', 'SOCIAL', '4.5', '66577446', 'Varies with device', '1,000,000,000+', 'Free', '0', 'Teen', 'Social', 'July 31, 2018', 'Varies with device', 'Varies with device']\n",
      "['Instagram', 'SOCIAL', '4.5', '66577313', 'Varies with device', '1,000,000,000+', 'Free', '0', 'Teen', 'Social', 'July 31, 2018', 'Varies with device', 'Varies with device']\n",
      "['Instagram', 'SOCIAL', '4.5', '66509917', 'Varies with device', '1,000,000,000+', 'Free', '0', 'Teen', 'Social', 'July 31, 2018', 'Varies with device', 'Varies with device']\n"
     ]
    }
   ],
   "source": [
    "for app in android:\n",
    "    name = app[0]\n",
    "    if name == 'Instagram':\n",
    "        print(app)"
   ]
  },
  {
   "cell_type": "markdown",
   "metadata": {},
   "source": [
    "En total hay 1181 casos donde las apps aparecen más de una vez"
   ]
  },
  {
   "cell_type": "code",
   "execution_count": 215,
   "metadata": {},
   "outputs": [
    {
     "name": "stdout",
     "output_type": "stream",
     "text": [
      "Numero duplicado de apps:  1181\n",
      "\n",
      "\n",
      "Ejemplo de apps duplicadas:  ['Quick PDF Scanner + OCR FREE', 'Box', 'Google My Business', 'ZOOM Cloud Meetings', 'join.me - Simple Meetings', 'Box', 'Zenefits', 'Google Ads', 'Google My Business', 'Slack', 'FreshBooks Classic', 'Insightly CRM', 'QuickBooks Accounting: Invoicing & Expenses', 'HipChat - Chat Built for Teams', 'Xero Accounting Software']\n"
     ]
    }
   ],
   "source": [
    "duplicate_apps = []\n",
    "unique_apps = []\n",
    "\n",
    "for app in android:\n",
    "    name = app[0]\n",
    "    if name in unique_apps:\n",
    "        duplicate_apps.append(name)\n",
    "    else:\n",
    "        unique_apps.append(name)\n",
    "        \n",
    "print('Numero duplicado de apps: ', len(duplicate_apps))\n",
    "print('\\n')\n",
    "print('Ejemplo de apps duplicadas: ', duplicate_apps[:15])"
   ]
  },
  {
   "cell_type": "markdown",
   "metadata": {},
   "source": [
    "No queremos contar ciertas applicaciones más de una vez al momento de analizar el dataset, así que eliminamos datos repetidos.\n",
    "\n",
    "Si se examinan las lineas impresas, se observa una diferencia en la cuarta posicion de cada fila, la cual corresponde a al numero de revisiones. Los diferentes numeros muestran que los datos fueron recolectados en diferentes tiempos. Podemos usar estos datos para construir un criterio para las siguientes fila. No queremos removerlas de forma aleatoria, si no que nos quedamos con los numeros mas altos de revisiones.\n",
    "\n",
    "Para hacer eso haremos lo siguiente:\n",
    "\n",
    "* Crear un diccionario donde cada llave es el nombre unico de una app, y el como valor, la revision mas alta.\n",
    "* Usar el diccionario para crea5r un nuevo data set, el cual tendra solo una entrada por app(y solo seleccionaremos la apps con el numero más alto de revisiones\n",
    "\n",
    "Empecemos por construir el diccionario:"
   ]
  },
  {
   "cell_type": "code",
   "execution_count": 216,
   "metadata": {},
   "outputs": [],
   "source": [
    "reviews_max = {}\n",
    "\n",
    "for app in android:\n",
    "    name = app[0]\n",
    "    n_reviews = float(app[3])\n",
    "    \n",
    "    if name in reviews_max and reviews_max[name] < n_reviews:\n",
    "        reviews_max[name] = n_reviews\n",
    "        \n",
    "    elif name not in reviews_max:\n",
    "        reviews_max[name] = n_reviews\n",
    "        \n",
    "     "
   ]
  },
  {
   "cell_type": "markdown",
   "metadata": {},
   "source": [
    "en la celda anterior encontramos 1181 casos donde una app aparece más de 1 vez, asi que la longitud de nuestro diccionario debe ser igual a la diferencia entre la longitud de nuestro data set y 1181\n"
   ]
  },
  {
   "cell_type": "code",
   "execution_count": 217,
   "metadata": {},
   "outputs": [
    {
     "name": "stdout",
     "output_type": "stream",
     "text": [
      "Longitud esperada 9659\n",
      "longitud actual 9659\n"
     ]
    }
   ],
   "source": [
    "print('Longitud esperada', len(android) - 1181)\n",
    "print('longitud actual' , len(reviews_max))"
   ]
  },
  {
   "cell_type": "markdown",
   "metadata": {},
   "source": [
    "ahora usaremos el diccionario para remover dupliacdos, haremos lo siguiente:\n",
    "\n",
    "* inicializamos 2 listas vacias *android_clean* y *already_added*\n",
    "* recorremos el data set android y por cada iteracion haremos:\n",
    "    * obtendremos el nombre de  la app y numero de revisiones\n",
    "    * agregamos la linea a la lista *android_clean* y el nombre a la lista *already_cleaned* si:\n",
    "        * el numero de revisiones de la app es igual a el número de revisiones de esa app descritra en el diccionario                     *reviews_max*, y:\n",
    "        * el nombre de la app no se encuentra en la lista *already_added*. Necesitamos agregar esta condicion suplemenrtaria."
   ]
  },
  {
   "cell_type": "code",
   "execution_count": 218,
   "metadata": {},
   "outputs": [],
   "source": [
    "android_clean = []\n",
    "already_added = []\n",
    "\n",
    "for app in android:\n",
    "    name = app[0]\n",
    "    n_reviews = float(app[3])\n",
    "    \n",
    "    if (reviews_max[name] == n_reviews) and (name not in already_added):\n",
    "        android_clean.append(app)\n",
    "        already_added.append(name) #Esto debe ir dentro del bloque if"
   ]
  },
  {
   "cell_type": "markdown",
   "metadata": {},
   "source": [
    "ahora exploremos rapidamente el nuevo data set y confirmamos que el numero de lineas son 9659"
   ]
  },
  {
   "cell_type": "code",
   "execution_count": 219,
   "metadata": {},
   "outputs": [
    {
     "name": "stdout",
     "output_type": "stream",
     "text": [
      "['Photo Editor & Candy Camera & Grid & ScrapBook', 'ART_AND_DESIGN', '4.1', '159', '19M', '10,000+', 'Free', '0', 'Everyone', 'Art & Design', 'January 7, 2018', '1.0.0', '4.0.3 and up']\n",
      "\n",
      "\n",
      "['U Launcher Lite – FREE Live Cool Themes, Hide Apps', 'ART_AND_DESIGN', '4.7', '87510', '8.7M', '5,000,000+', 'Free', '0', 'Everyone', 'Art & Design', 'August 1, 2018', '1.2.4', '4.0.3 and up']\n",
      "\n",
      "\n",
      "['Sketch - Draw & Paint', 'ART_AND_DESIGN', '4.5', '215644', '25M', '50,000,000+', 'Free', '0', 'Teen', 'Art & Design', 'June 8, 2018', 'Varies with device', '4.2 and up']\n",
      "\n",
      "\n",
      "Numero de lineas: 9659\n",
      "Numero de columnas: 13\n"
     ]
    }
   ],
   "source": [
    "explore_data(android_clean, 0, 3, True)"
   ]
  },
  {
   "cell_type": "markdown",
   "metadata": {},
   "source": [
    "se obtienen 9659 lineas como era esperado"
   ]
  },
  {
   "cell_type": "markdown",
   "metadata": {},
   "source": [
    "/**REMOVIENDO APLICACIONES QUE NO ESTAN EN INGLES**/\n",
    "\n",
    "PARTE UNO\n",
    "\n",
    "si exploramos el data set, notamos que hay nombres de aplicaciones en caracteres orientales, a continuacion se muestran algunos ejemplos:"
   ]
  },
  {
   "cell_type": "code",
   "execution_count": 220,
   "metadata": {},
   "outputs": [
    {
     "name": "stdout",
     "output_type": "stream",
     "text": [
      "436672029\n",
      "1144164707\n",
      "中国語 AQリスニング\n",
      "لعبة تقدر تربح DZ\n"
     ]
    }
   ],
   "source": [
    "print(ios[813][1])\n",
    "print(ios[6731][1])\n",
    "\n",
    "print(android_clean[4412][0])\n",
    "print(android_clean[7940][0])"
   ]
  },
  {
   "cell_type": "markdown",
   "metadata": {},
   "source": [
    "No nos interesa mantener estas apps en nuestro Data Set, asi que las removeremos. Un modo de hacer esto es eliminar cada nombre que contenga simbolos fuera de los caracteres especiales y otros simbolos (., !, ?, ;, etc.), (+, *, /, etc.).\n",
    "\n",
    "- Construiremos una funcion y usaremos la funcion ord() para encontrar el encoding especifico a cada caracter."
   ]
  },
  {
   "cell_type": "code",
   "execution_count": 221,
   "metadata": {},
   "outputs": [
    {
     "name": "stdout",
     "output_type": "stream",
     "text": [
      "True\n",
      "False\n"
     ]
    }
   ],
   "source": [
    "def is_english(string):\n",
    "    \n",
    "    for character in string:\n",
    "        if ord(character) > 127:\n",
    "            return False\n",
    "    \n",
    "    return True\n",
    "\n",
    "print(is_english('Instagram'))\n",
    "print(is_english('爱奇艺PPS -《欢乐颂2》电视剧热播'))"
   ]
  },
  {
   "cell_type": "markdown",
   "metadata": {},
   "source": [
    "Esta funcion parece funcionar de forma correcta, pero algunas aplicaciones usan en sus nombre emojis u otros simbolos  (™, — (em dash), – (en dash), etc.), eso cae fuera del rango ASCII, eso nos haria remover aplicsaciones que nos son utiles"
   ]
  },
  {
   "cell_type": "code",
   "execution_count": 222,
   "metadata": {},
   "outputs": [
    {
     "name": "stdout",
     "output_type": "stream",
     "text": [
      "False\n",
      "False\n",
      "8482\n",
      "128540\n"
     ]
    }
   ],
   "source": [
    "print(is_english('Docs To Go™ Free Office Suite'))\n",
    "print(is_english('Instachat 😜'))\n",
    "\n",
    "print(ord('™'))\n",
    "print(ord('😜'))"
   ]
  },
  {
   "cell_type": "markdown",
   "metadata": {},
   "source": [
    "*PARTE DOS*\n",
    "\n",
    "Para minimizar el impacto de la perdida de datos solo removeremos las apps que en su nombre contengan mas de 3 caracteres *no-ASCII*"
   ]
  },
  {
   "cell_type": "code",
   "execution_count": 223,
   "metadata": {},
   "outputs": [
    {
     "name": "stdout",
     "output_type": "stream",
     "text": [
      "True\n",
      "True\n"
     ]
    }
   ],
   "source": [
    "def is_english(string):\n",
    "    non_ascii = 0\n",
    "    \n",
    "    for character in string:\n",
    "        if ord(character) > 127:\n",
    "            non_ascii += 1\n",
    "    \n",
    "    if non_ascii >= 3:\n",
    "        return False\n",
    "    else:\n",
    "        return True\n",
    "\n",
    "print(is_english('Docs To Go™ Free Office Suite'))\n",
    "print(is_english('Instachat 😜'))"
   ]
  },
  {
   "cell_type": "markdown",
   "metadata": {},
   "source": [
    "bnuestra funcion no es perfecta, pudiera haber aplicaciones que pasan nuestro filtro, pero a este punto no debemos gastar mucho tiempo optimizando este filtro.\n",
    "\n",
    "A continuacion usamos nuestra funcion *is_english()* para filtrar ambos data sets."
   ]
  },
  {
   "cell_type": "code",
   "execution_count": 224,
   "metadata": {},
   "outputs": [
    {
     "name": "stdout",
     "output_type": "stream",
     "text": [
      "['Photo Editor & Candy Camera & Grid & ScrapBook', 'ART_AND_DESIGN', '4.1', '159', '19M', '10,000+', 'Free', '0', 'Everyone', 'Art & Design', 'January 7, 2018', '1.0.0', '4.0.3 and up']\n",
      "\n",
      "\n",
      "['U Launcher Lite – FREE Live Cool Themes, Hide Apps', 'ART_AND_DESIGN', '4.7', '87510', '8.7M', '5,000,000+', 'Free', '0', 'Everyone', 'Art & Design', 'August 1, 2018', '1.2.4', '4.0.3 and up']\n",
      "\n",
      "\n",
      "['Sketch - Draw & Paint', 'ART_AND_DESIGN', '4.5', '215644', '25M', '50,000,000+', 'Free', '0', 'Teen', 'Art & Design', 'June 8, 2018', 'Varies with device', '4.2 and up']\n",
      "\n",
      "\n",
      "Numero de lineas: 9597\n",
      "Numero de columnas: 13\n",
      "\n",
      "\n",
      "['1', '281656475', 'PAC-MAN Premium', '100788224', 'USD', '3.99', '21292', '26', '4', '4.5', '6.3.5', '4+', 'Games', '38', '5', '10', '1']\n",
      "\n",
      "\n",
      "['2', '281796108', 'Evernote - stay organized', '158578688', 'USD', '0', '161065', '26', '4', '3.5', '8.2.2', '4+', 'Productivity', '37', '5', '23', '1']\n",
      "\n",
      "\n",
      "['3', '281940292', 'WeatherBug - Local Weather, Radar, Maps, Alerts', '100524032', 'USD', '0', '188583', '2822', '3.5', '4.5', '5.0.0', '4+', 'Weather', '37', '5', '3', '1']\n",
      "\n",
      "\n",
      "Numero de lineas: 7197\n",
      "Numero de columnas: 17\n"
     ]
    }
   ],
   "source": [
    "android_english = []\n",
    "ios_english = []\n",
    "\n",
    "for app in android_clean:\n",
    "    name = app[0]\n",
    "    if is_english(name):\n",
    "        android_english.append(app)\n",
    "        \n",
    "for app in ios:\n",
    "    name = app[1]\n",
    "    if is_english(name):\n",
    "        ios_english.append(app)\n",
    "        \n",
    "explore_data(android_english, 0, 3, True)\n",
    "print('\\n')\n",
    "explore_data(ios_english, 0, 3, True)"
   ]
  },
  {
   "cell_type": "markdown",
   "metadata": {},
   "source": [
    "verificamos resultados!!\n",
    "\n",
    "*AISLANDO APLICACIONES GRATUITAS*\n",
    "\n",
    "Como mencionamos al principio solo necesitamos para nuestro analisis las aplicaciones gratuitas; nuestros data sets contiene aplicaciones gratuitas y de paga, y necesitamos aislar las palicaciones gratuitas en ambos data sets."
   ]
  },
  {
   "cell_type": "code",
   "execution_count": 225,
   "metadata": {},
   "outputs": [
    {
     "name": "stdout",
     "output_type": "stream",
     "text": [
      "8848\n",
      "4056\n"
     ]
    }
   ],
   "source": [
    "android_final = []\n",
    "ios_final = []\n",
    "\n",
    "for app in android_english:\n",
    "    price = app[7]\n",
    "    if price == '0':\n",
    "        android_final.append(app)\n",
    "        \n",
    "for app in ios_english:\n",
    "    price = app[5]\n",
    "    if price == '0':\n",
    "        ios_final.append(app)\n",
    "\n",
    "        \n",
    "print(len(android_final))\n",
    "print(len(ios_final))"
   ]
  },
  {
   "cell_type": "markdown",
   "metadata": {},
   "source": [
    "obtenemos 8864 apps Android y 4056 apps iOS, los cuales son suficientes para nuestro analisis."
   ]
  },
  {
   "cell_type": "markdown",
   "metadata": {},
   "source": [
    "*APLICACIONES MAS COMUNES POR GENERO*\n",
    "\n",
    "-PARTE UNO-\n",
    "\n",
    "* Como se menciono en la introduccion, nuestra meta es determinar el tipo de aplicaciones que son más atractivas a los usuarios, debido a que nuestros resultados son altamente influenciados por el número de personas que usan las aplicaciones.\n",
    "\n",
    "para minimizar los riesgos, nuestra estrategia de validacion esta compuesta por 3 pasos:\n",
    "\n",
    "1.- construir una version minima de la aplicacion Android y agregarla a Google Play.\n",
    "2.- si la app tiene buena respuesta se desarrollara lo siguiente.\n",
    "3.- si la aplicacion tiene ganancias despues de 6 meses, tambien se construira una Version para iOS de la aplicación.\n",
    "\n",
    "-PARTE DOS-\n",
    "\n",
    "construiremos 2 funciones que usaremos para analizar la frecuencia en las tablas"
   ]
  },
  {
   "cell_type": "code",
   "execution_count": 226,
   "metadata": {},
   "outputs": [],
   "source": [
    "def freq_table(dataset, index):\n",
    "    table= {}\n",
    "    total = 0\n",
    "    \n",
    "    for row in dataset:\n",
    "        total += 1\n",
    "        value = row[index]\n",
    "        if value in table:\n",
    "            table[value] += 1\n",
    "        else:\n",
    "            table[value] = 1\n",
    "            \n",
    "    table_percentages = {}\n",
    "    for key in table:\n",
    "        percentage = (table[key] / total) * 100\n",
    "        table_percentages[key] = percentage\n",
    "        \n",
    "    return table_percentages\n",
    "\n",
    "def display_table(dataset, index):\n",
    "    table = freq_table(dataset, index)\n",
    "    table_display = []\n",
    "    for key in table:\n",
    "        key_val_as_tuple = (table[key], key)\n",
    "        table_display.append(key_val_as_tuple)\n",
    "        \n",
    "    table_sorted = sorted(table_display, reverse = True)\n",
    "    for entry in table_sorted:\n",
    "        print(entry[1], \":\", entry[0])"
   ]
  },
  {
   "cell_type": "markdown",
   "metadata": {},
   "source": [
    "*PARTE TRES*\n",
    "\n",
    "- Empezamos a examinar la frencuencia en las tablas para la columna prime_genre del data set de App Store."
   ]
  },
  {
   "cell_type": "code",
   "execution_count": 227,
   "metadata": {},
   "outputs": [
    {
     "name": "stdout",
     "output_type": "stream",
     "text": [
      "Games : 55.64595660749507\n",
      "Entertainment : 8.234714003944774\n",
      "Photo & Video : 4.117357001972387\n",
      "Social Networking : 3.5256410256410255\n",
      "Education : 3.2544378698224854\n",
      "Shopping : 2.983234714003945\n",
      "Utilities : 2.687376725838264\n",
      "Lifestyle : 2.3175542406311638\n",
      "Finance : 2.0710059171597637\n",
      "Sports : 1.947731755424063\n",
      "Health & Fitness : 1.8737672583826428\n",
      "Music : 1.6518737672583828\n",
      "Book : 1.6272189349112427\n",
      "Productivity : 1.5285996055226825\n",
      "News : 1.4299802761341223\n",
      "Travel : 1.3806706114398422\n",
      "Food & Drink : 1.0601577909270217\n",
      "Weather : 0.7642998027613412\n",
      "Reference : 0.4930966469428008\n",
      "Navigation : 0.4930966469428008\n",
      "Business : 0.4930966469428008\n",
      "Catalogs : 0.22189349112426035\n",
      "Medical : 0.19723865877712032\n"
     ]
    }
   ],
   "source": [
    "display_table(ios_final, -5)"
   ]
  },
  {
   "cell_type": "markdown",
   "metadata": {},
   "source": [
    "podemos ver que entre las aplicaciones gratuitas mas de la mitad (55.15%) son juegos, entretenimiento(8.23%) seguido de aplicaciones de foto y video. Solo el 3.25% estan dedicadas a la educacion.\n",
    "\n",
    "La impresion general es que la App Store(al menos la parte que contiene las aplicaciones gratuitas) esta dominada por aplicaciones diseñadas para el entretenimiento (juegos, entretenimiento, fotos y video), mientras que aplicaciones de proposito practico(educacion, compras, utilidades, productividad, estilo de vida, etc.) son mas escasas. Sin embargo, el hecho de que las aplicaciones para entretenimiento son mas numerosas no implica que tengan el mayor nuemro de usuarios, la demanda tal vez no sea igual que la oferta.\n",
    "\n",
    "Continuemos examinando Genero y categoria del data set de Google Play"
   ]
  },
  {
   "cell_type": "code",
   "execution_count": 228,
   "metadata": {},
   "outputs": [
    {
     "name": "stdout",
     "output_type": "stream",
     "text": [
      "FAMILY : 18.942133815551536\n",
      "GAME : 9.697106690777577\n",
      "TOOLS : 8.453887884267631\n",
      "BUSINESS : 4.599909584086799\n",
      "PRODUCTIVITY : 3.899186256781193\n",
      "LIFESTYLE : 3.887884267631103\n",
      "FINANCE : 3.7070524412296564\n",
      "MEDICAL : 3.5375226039783\n",
      "SPORTS : 3.390596745027125\n",
      "PERSONALIZATION : 3.322784810126582\n",
      "COMMUNICATION : 3.2323688969258586\n",
      "HEALTH_AND_FITNESS : 3.0854430379746836\n",
      "PHOTOGRAPHY : 2.949819168173599\n",
      "NEWS_AND_MAGAZINES : 2.802893309222423\n",
      "SOCIAL : 2.667269439421338\n",
      "TRAVEL_AND_LOCAL : 2.3395117540687163\n",
      "SHOPPING : 2.2490958408679926\n",
      "BOOKS_AND_REFERENCE : 2.1360759493670884\n",
      "DATING : 1.8648282097649187\n",
      "VIDEO_PLAYERS : 1.7970162748643763\n",
      "MAPS_AND_NAVIGATION : 1.3901446654611211\n",
      "FOOD_AND_DRINK : 1.2432188065099457\n",
      "EDUCATION : 1.164104882459313\n",
      "ENTERTAINMENT : 0.9606690777576853\n",
      "LIBRARIES_AND_DEMO : 0.9380650994575045\n",
      "AUTO_AND_VEHICLES : 0.9267631103074141\n",
      "HOUSE_AND_HOME : 0.8024412296564195\n",
      "WEATHER : 0.7911392405063291\n",
      "EVENTS : 0.7120253164556962\n",
      "PARENTING : 0.6555153707052441\n",
      "ART_AND_DESIGN : 0.6442133815551537\n",
      "COMICS : 0.6103074141048824\n",
      "BEAUTY : 0.599005424954792\n"
     ]
    }
   ],
   "source": [
    "display_table(android_final, 1) # Category"
   ]
  },
  {
   "cell_type": "markdown",
   "metadata": {},
   "source": [
    "La principal diferencia que podemos ver es que no hay tantas apps destinadas al entretenimiento, y parece que un buen numero de apps esta diseñada a propositos practicos(familia, herramientas. estilo de vida, productividad,etc.). sin embargo si investigamos más podemos ver que la categoria familia(que tiene al rededor del 19%) son mayormente juegos para niños.\n",
    "\n",
    "Verifiquemos ahora el genero de las apps en el dataset."
   ]
  },
  {
   "cell_type": "code",
   "execution_count": 229,
   "metadata": {},
   "outputs": [
    {
     "name": "stdout",
     "output_type": "stream",
     "text": [
      "Tools : 8.44258589511754\n",
      "Entertainment : 6.080470162748644\n",
      "Education : 5.357142857142857\n",
      "Business : 4.599909584086799\n",
      "Productivity : 3.899186256781193\n",
      "Lifestyle : 3.8765822784810124\n",
      "Finance : 3.7070524412296564\n",
      "Medical : 3.5375226039783\n",
      "Sports : 3.4584086799276674\n",
      "Personalization : 3.322784810126582\n",
      "Communication : 3.2323688969258586\n",
      "Action : 3.096745027124774\n",
      "Health & Fitness : 3.0854430379746836\n",
      "Photography : 2.949819168173599\n",
      "News & Magazines : 2.802893309222423\n",
      "Social : 2.667269439421338\n",
      "Travel & Local : 2.328209764918626\n",
      "Shopping : 2.2490958408679926\n",
      "Books & Reference : 2.1360759493670884\n",
      "Simulation : 2.0456600361663653\n",
      "Dating : 1.8648282097649187\n",
      "Arcade : 1.842224231464738\n",
      "Video Players & Editors : 1.7744122965641953\n",
      "Casual : 1.763110307414105\n",
      "Maps & Navigation : 1.3901446654611211\n",
      "Food & Drink : 1.2432188065099457\n",
      "Puzzle : 1.1301989150090417\n",
      "Racing : 0.9945750452079566\n",
      "Role Playing : 0.9380650994575045\n",
      "Libraries & Demo : 0.9380650994575045\n",
      "Auto & Vehicles : 0.9267631103074141\n",
      "Strategy : 0.9154611211573236\n",
      "House & Home : 0.8024412296564195\n",
      "Weather : 0.7911392405063291\n",
      "Events : 0.7120253164556962\n",
      "Adventure : 0.6668173598553345\n",
      "Comics : 0.599005424954792\n",
      "Beauty : 0.599005424954792\n",
      "Art & Design : 0.599005424954792\n",
      "Parenting : 0.4972875226039783\n",
      "Card : 0.45207956600361665\n",
      "Trivia : 0.4181735985533454\n",
      "Casino : 0.4181735985533454\n",
      "Educational;Education : 0.39556962025316456\n",
      "Board : 0.3842676311030741\n",
      "Educational : 0.3729656419529837\n",
      "Education;Education : 0.33905967450271246\n",
      "Word : 0.25994575045207957\n",
      "Casual;Pretend Play : 0.23734177215189875\n",
      "Music : 0.2034358047016275\n",
      "Racing;Action & Adventure : 0.16952983725135623\n",
      "Puzzle;Brain Games : 0.16952983725135623\n",
      "Entertainment;Music & Video : 0.16952983725135623\n",
      "Casual;Brain Games : 0.13562386980108498\n",
      "Casual;Action & Adventure : 0.13562386980108498\n",
      "Arcade;Action & Adventure : 0.12432188065099457\n",
      "Action;Action & Adventure : 0.10171790235081375\n",
      "Educational;Pretend Play : 0.09041591320072333\n",
      "Simulation;Action & Adventure : 0.07911392405063292\n",
      "Parenting;Education : 0.07911392405063292\n",
      "Entertainment;Brain Games : 0.07911392405063292\n",
      "Board;Brain Games : 0.07911392405063292\n",
      "Parenting;Music & Video : 0.06781193490054249\n",
      "Educational;Brain Games : 0.06781193490054249\n",
      "Casual;Creativity : 0.06781193490054249\n",
      "Art & Design;Creativity : 0.06781193490054249\n",
      "Education;Pretend Play : 0.05650994575045208\n",
      "Role Playing;Pretend Play : 0.045207956600361664\n",
      "Education;Creativity : 0.045207956600361664\n",
      "Role Playing;Action & Adventure : 0.033905967450271246\n",
      "Puzzle;Action & Adventure : 0.033905967450271246\n",
      "Entertainment;Creativity : 0.033905967450271246\n",
      "Entertainment;Action & Adventure : 0.033905967450271246\n",
      "Educational;Creativity : 0.033905967450271246\n",
      "Educational;Action & Adventure : 0.033905967450271246\n",
      "Education;Music & Video : 0.033905967450271246\n",
      "Education;Brain Games : 0.033905967450271246\n",
      "Education;Action & Adventure : 0.033905967450271246\n",
      "Adventure;Action & Adventure : 0.033905967450271246\n",
      "Video Players & Editors;Music & Video : 0.022603978300180832\n",
      "Sports;Action & Adventure : 0.022603978300180832\n",
      "Simulation;Pretend Play : 0.022603978300180832\n",
      "Puzzle;Creativity : 0.022603978300180832\n",
      "Music;Music & Video : 0.022603978300180832\n",
      "Entertainment;Pretend Play : 0.022603978300180832\n",
      "Casual;Education : 0.022603978300180832\n",
      "Board;Action & Adventure : 0.022603978300180832\n",
      "Video Players & Editors;Creativity : 0.011301989150090416\n",
      "Trivia;Education : 0.011301989150090416\n",
      "Travel & Local;Action & Adventure : 0.011301989150090416\n",
      "Tools;Education : 0.011301989150090416\n",
      "Strategy;Education : 0.011301989150090416\n",
      "Strategy;Creativity : 0.011301989150090416\n",
      "Strategy;Action & Adventure : 0.011301989150090416\n",
      "Simulation;Education : 0.011301989150090416\n",
      "Role Playing;Brain Games : 0.011301989150090416\n",
      "Racing;Pretend Play : 0.011301989150090416\n",
      "Puzzle;Education : 0.011301989150090416\n",
      "Parenting;Brain Games : 0.011301989150090416\n",
      "Music & Audio;Music & Video : 0.011301989150090416\n",
      "Lifestyle;Pretend Play : 0.011301989150090416\n",
      "Lifestyle;Education : 0.011301989150090416\n",
      "Health & Fitness;Education : 0.011301989150090416\n",
      "Health & Fitness;Action & Adventure : 0.011301989150090416\n",
      "Entertainment;Education : 0.011301989150090416\n",
      "Communication;Creativity : 0.011301989150090416\n",
      "Comics;Creativity : 0.011301989150090416\n",
      "Casual;Music & Video : 0.011301989150090416\n",
      "Card;Action & Adventure : 0.011301989150090416\n",
      "Books & Reference;Education : 0.011301989150090416\n",
      "Art & Design;Pretend Play : 0.011301989150090416\n",
      "Art & Design;Action & Adventure : 0.011301989150090416\n",
      "Arcade;Pretend Play : 0.011301989150090416\n",
      "Adventure;Education : 0.011301989150090416\n"
     ]
    }
   ],
   "source": [
    "display_table(android_final, -4) #Genero"
   ]
  },
  {
   "cell_type": "markdown",
   "metadata": {},
   "source": [
    "la diferencia entre las columnas Genero y Categoria no es muy clara, pero podemos notar que la columna Genero es un poco más granular(tiene más categorias). a partir de ahora solo usaremos la columna Categoria.\n",
    "\n",
    "hasta este punto encontramos que la App Store esta dominada por aplicaciones dideñadas para el entretenimiento, mientras que Google Play muestra más un mejor balance.\n",
    "\n",
    "    *APLICACIONES MAS POPULARES POR GENERO EN LA APP STORE*\n",
    "    \n",
    "Un modo de de saber que Generos son los más populares(tienen mayor numero de usuarios) is calcular el promedio de instalaciones de aplicaciones de cada genero. Para el data set de Google Play podemos encontrar esta informacion en la columna Installs, pero para el data set de App Store esta informacion no se encuentra. Tomaremos como el total de numero de usuarios que rankearon cada app, esta info esta en la columna rating_count_tot.\n",
    "\n",
    "Ahora calculamos el promedio de raitings por genero en el App Store."
   ]
  },
  {
   "cell_type": "code",
   "execution_count": 230,
   "metadata": {},
   "outputs": [
    {
     "name": "stdout",
     "output_type": "stream",
     "text": [
      "Productivity : 19053.887096774193\n",
      "Weather : 47220.93548387097\n",
      "Shopping : 18746.677685950413\n",
      "Reference : 67447.9\n",
      "Finance : 13522.261904761905\n",
      "Music : 56482.02985074627\n",
      "Utilities : 14010.100917431193\n",
      "Travel : 20216.01785714286\n",
      "Social Networking : 53078.195804195806\n",
      "Sports : 20128.974683544304\n",
      "Health & Fitness : 19952.315789473683\n",
      "Games : 18924.68896765618\n",
      "Food & Drink : 20179.093023255813\n",
      "News : 15892.724137931034\n",
      "Book : 8498.333333333334\n",
      "Photo & Video : 27249.892215568863\n",
      "Entertainment : 10822.961077844311\n",
      "Business : 6367.8\n",
      "Lifestyle : 8978.308510638299\n",
      "Education : 6266.333333333333\n",
      "Navigation : 25972.05\n",
      "Medical : 459.75\n",
      "Catalogs : 1779.5555555555557\n"
     ]
    }
   ],
   "source": [
    "genres_ios = freq_table(ios_final, -5)\n",
    "\n",
    "for genre in genres_ios:\n",
    "    total = 0\n",
    "    len_genre = 0\n",
    "    for app in ios_final:\n",
    "        genre_app = app[-5]\n",
    "        if genre_app == genre:            \n",
    "            n_ratings = float(app[6])\n",
    "            total += n_ratings\n",
    "            len_genre += 1\n",
    "\n",
    "    avg_n_ratings = total / len_genre\n",
    "    print(genre, ':', avg_n_ratings)"
   ]
  },
  {
   "cell_type": "markdown",
   "metadata": {},
   "source": [
    "en promedio las aplicaciones para navegar tiene el numero mas alto de revisionespero este numero esta fuertemente influenciado por WASE y Google Maps que tienen cerca de la mitad de las revisiones juntas:"
   ]
  },
  {
   "cell_type": "code",
   "execution_count": 231,
   "metadata": {},
   "outputs": [
    {
     "name": "stdout",
     "output_type": "stream",
     "text": [
      "Waze - GPS Navigation, Maps & Real-time Traffic : 345046\n",
      "Geocaching® : 12811\n",
      "ImmobilienScout24: Real Estate Search in Germany : 187\n",
      "恵方コンパス. : 0\n",
      "ナビタイム ドライブサポーター - NAVITIMEのカーナビアプリ : 0\n",
      "自転車ナビ by NAVITIME(ナビタイム) - 自転車のナビができるアプリ : 0\n",
      "百度地图-智能的手机导航，公交地铁出行必备 : 1014\n",
      "高德地图（精准专业的手机地图） : 1040\n",
      "Railway Route Search : 5\n",
      "CoPilot GPS – Car Navigation & Offline Maps : 3582\n",
      "ナビタイムの乗り換え案内 - 遅延情報やバス時刻表を案内するアプリ : 48\n",
      "百度地图HD : 771\n",
      "高德地图HD : 26\n",
      "Google Maps - Navigation & Transit : 154911\n",
      "JR東日本アプリ : 0\n",
      "NAVIRO(ナビロー) - カーナビ/バイクナビ/徒歩ナビが使える高性能ナビアプリ : 0\n",
      "ホラースポット-ghost spot-意味が分かると怖いマップ : 0\n",
      "バーチャル恵方巻【節分・恵方コンパス・方位】 : 0\n",
      "えほう - 最強の恵方コンパス : 0\n",
      "MapFan(マップファン) – 渋滞情報/オービス/オフライン対応の本格カーナビ : 0\n"
     ]
    }
   ],
   "source": [
    "for app in ios_final:\n",
    "    if app[-5] == 'Navigation':\n",
    "        print(app[2], ':', app[6]) # print name and number of ratings"
   ]
  },
  {
   "cell_type": "markdown",
   "metadata": {},
   "source": [
    "el mismo patron aplica para aplicaciones de redes socialesdonde la mayoria son descargas de facebook, Pinterest, Skype, etc. Lo mismo aplica para aplicaciones de musica, donde aplicaciones como Pandora, Spotify y Shazam influyen en el promedio de estas aplicaciones.\n",
    "\n",
    "nuerstra meta es encontrar los generos mas populares pero, navegacion, redes sociales o musica parecen más populares de lo que realmente son. El promedio de ratings parece ser influenciado por muy pocas aplicaciones, mientras que otras tienen muy pocas descargas. Podemos generar una mejor imagen removiendo esas aplicaciones que son muy populares para cada genero y promediar nuevamente.\n",
    "\n",
    "son al rededor de 74942 aplicaciones de referencia."
   ]
  },
  {
   "cell_type": "code",
   "execution_count": 232,
   "metadata": {},
   "outputs": [
    {
     "name": "stdout",
     "output_type": "stream",
     "text": [
      "Bible : 985920\n",
      "Dictionary.com Dictionary & Thesaurus : 200047\n",
      "Dictionary.com Dictionary & Thesaurus for iPad : 54175\n",
      "Muslim Pro: Ramadan 2017 Prayer Times, Azan, Quran : 18418\n",
      "Merriam-Webster Dictionary : 16849\n",
      "Google Translate : 26786\n",
      "Night Sky : 12122\n",
      "WWDC : 762\n",
      "Jishokun-Japanese English Dictionary & Translator : 0\n",
      "教えて!goo : 0\n",
      "VPN Express : 14\n",
      "彩库宝典-【官方版】 : 0\n",
      "New Furniture Mods - Pocket Wiki & Game Tools for Minecraft PC Edition : 17588\n",
      "LUCKY BLOCK MOD ™ for Minecraft PC Edition - The Best Pocket Wiki & Mods Installer Tools : 4693\n",
      "Guides for Pokémon GO - Pokemon GO News and Cheats : 826\n",
      "Horror Maps for Minecraft PE - Download The Scariest Maps for Minecraft Pocket Edition (MCPE) Free : 718\n",
      "City Maps for Minecraft PE - The Best Maps for Minecraft Pocket Edition (MCPE) : 8535\n",
      "GUNS MODS for Minecraft PC Edition - Mods Tools : 1497\n",
      "Real Bike Traffic Rider Virtual Reality Glasses : 8\n",
      "無料で音楽や写真・カメラの裏技アプリ for iPhone7 : 0\n"
     ]
    }
   ],
   "source": [
    "for app in ios_final:\n",
    "    if app[-5] == 'Reference':\n",
    "        print(app[2], ':', app[6])"
   ]
  },
  {
   "cell_type": "markdown",
   "metadata": {},
   "source": [
    "Con el analisis de estos generos podemos determinar varias cuestiones, parece que  las palicaciones más populares incluyen clima, libros, comida o finanzas; las aplicaciones que no parecen muy interesantes para nosotros son:\n",
    "\n",
    "* Clima - la gente generalmente no pasa mucho tiempo en estas apps asi que las oportunidades de monetizar una aplicacion de este tipo son bajas.\n",
    "* Camida y bebida - ejemplos de estaas apps son Starbucks, Dunkin' Donuts, McDonalds, etc. Asi que para generar una aplicacion popular de este tipo requiere preparacion y entrega, lo cual esta fuera de los limites de la empresa.\n",
    "* Finanzas - estas aplicaciones involucran bancos, pagos, transferencias, etc. Construir una aplicacion financiera requiere de conocimiento y no queremos contratar a un financiero solo para contruir una app.\n",
    "\n",
    "AHORA ANALICEMOS EL DATA SET DE GOOGLE PLAY\n",
    "\n",
    "*APLICACIONES MAS POPULARES POR GENERO EN EL GOOGLE PLAY*\n",
    "\n",
    "Para el Google Play tenemos el dato de numero de instalaciones, asi que debemos de ser capaces de obtener una imagen más clara acerca de la popularidad de las palicaciones. Sin embargo el numero de instalaciones no parece muy acertado"
   ]
  },
  {
   "cell_type": "code",
   "execution_count": 233,
   "metadata": {},
   "outputs": [
    {
     "name": "stdout",
     "output_type": "stream",
     "text": [
      "1,000,000+ : 15.75497287522604\n",
      "100,000+ : 11.539330922242314\n",
      "10,000,000+ : 10.567359855334539\n",
      "10,000+ : 10.194394213381555\n",
      "1,000+ : 8.39737793851718\n",
      "100+ : 6.928119349005425\n",
      "5,000,000+ : 6.826401446654612\n",
      "500,000+ : 5.560578661844485\n",
      "50,000+ : 4.769439421338156\n",
      "5,000+ : 4.486889692585895\n",
      "10+ : 3.5375226039783\n",
      "500+ : 3.2436708860759493\n",
      "50,000,000+ : 2.2830018083182644\n",
      "100,000,000+ : 2.1360759493670884\n",
      "50+ : 1.9213381555153706\n",
      "5+ : 0.7911392405063291\n",
      "1+ : 0.5085895117540687\n",
      "500,000,000+ : 0.27124773960216997\n",
      "1,000,000,000+ : 0.22603978300180833\n",
      "0+ : 0.045207956600361664\n",
      "0 : 0.011301989150090416\n"
     ]
    }
   ],
   "source": [
    "display_table(android_final, 5) # columna de numero de instalaciones"
   ]
  },
  {
   "cell_type": "markdown",
   "metadata": {},
   "source": [
    "un problema con los datos es que no son precisos. Por ejemplo no sabemos si una app con 100,000+ instalaciones tiene 200,000 o 350K, sin embargo no necesitamos ser muy precisos para nuestro proposito, solo queremos una idea de que genero de aplicacion es más atractiva, y no necesitamos una precision perfecta.\n",
    "\n",
    "en el siguiente proceso vamos a convertir cada numero de instalacion en *float* - eso significa que debemos quitar las comas y los signos de adicion, de otro modo la conversion no se podra producir - lo haremos en el siguiente ciclo donde tambien obtendremos promedio de instalacion de cada genero(categoria)"
   ]
  },
  {
   "cell_type": "code",
   "execution_count": 234,
   "metadata": {},
   "outputs": [
    {
     "name": "stdout",
     "output_type": "stream",
     "text": [
      "ART_AND_DESIGN : 1986335.0877192982\n",
      "AUTO_AND_VEHICLES : 647317.8170731707\n",
      "BEAUTY : 513151.88679245283\n",
      "BOOKS_AND_REFERENCE : 8814199.78835979\n",
      "BUSINESS : 1712290.1474201474\n",
      "COMICS : 832613.8888888889\n",
      "COMMUNICATION : 38590581.08741259\n",
      "DATING : 854028.8303030303\n",
      "EDUCATION : 1833495.145631068\n",
      "ENTERTAINMENT : 11640705.88235294\n",
      "EVENTS : 253542.22222222222\n",
      "FINANCE : 1387692.475609756\n",
      "FOOD_AND_DRINK : 1924897.7363636363\n",
      "HEALTH_AND_FITNESS : 4188821.9853479853\n",
      "HOUSE_AND_HOME : 1360598.042253521\n",
      "LIBRARIES_AND_DEMO : 638503.734939759\n",
      "LIFESTYLE : 1446158.2238372094\n",
      "GAME : 15544014.51048951\n",
      "FAMILY : 3695641.8198090694\n",
      "MEDICAL : 120550.61980830671\n",
      "SOCIAL : 23253652.127118643\n",
      "SHOPPING : 7036877.311557789\n",
      "PHOTOGRAPHY : 17840110.40229885\n",
      "SPORTS : 3650602.276666667\n",
      "TRAVEL_AND_LOCAL : 13984077.710144928\n",
      "TOOLS : 10830251.970588235\n",
      "PERSONALIZATION : 5201482.6122448975\n",
      "PRODUCTIVITY : 16787331.344927534\n",
      "PARENTING : 542603.6206896552\n",
      "WEATHER : 5145550.285714285\n",
      "VIDEO_PLAYERS : 24727872.452830188\n",
      "NEWS_AND_MAGAZINES : 9549178.467741935\n",
      "MAPS_AND_NAVIGATION : 4049274.6341463416\n"
     ]
    }
   ],
   "source": [
    "categorias_android = freq_table(android_final, 1)\n",
    "\n",
    "for category in categorias_android:\n",
    "    total = 0\n",
    "    len_categoria = 0\n",
    "    for app in android_final:\n",
    "        category_app = app[1]\n",
    "        if category_app == category:\n",
    "            n_installs = app[5]\n",
    "            n_installs = n_installs.replace(',','')\n",
    "            n_installs = n_installs.replace('+','')\n",
    "            total += float(n_installs)\n",
    "            len_categoria += 1\n",
    "            \n",
    "    avg_n_installs = total / len_categoria\n",
    "    print(category, ':', avg_n_installs)"
   ]
  },
  {
   "cell_type": "markdown",
   "metadata": {},
   "source": [
    "en promedio, las apps para comunicacion son las que contienen el mayor número de instalaciones 36,106,662, este número esta conformado mayormente por pocas aplicaciones (Whatsapp, Facebook Messenger, Skype, Gmail, Hangouts), and algunas otras con menos instalaciones."
   ]
  },
  {
   "cell_type": "code",
   "execution_count": 235,
   "metadata": {},
   "outputs": [
    {
     "name": "stdout",
     "output_type": "stream",
     "text": [
      "WhatsApp Messenger : 1,000,000,000+\n",
      "imo beta free calls and text : 100,000,000+\n",
      "Android Messages : 100,000,000+\n",
      "Google Duo - High Quality Video Calls : 500,000,000+\n",
      "Messenger – Text and Video Chat for Free : 1,000,000,000+\n",
      "imo free video calls and chat : 500,000,000+\n",
      "Skype - free IM & video calls : 1,000,000,000+\n",
      "Who : 100,000,000+\n",
      "GO SMS Pro - Messenger, Free Themes, Emoji : 100,000,000+\n",
      "LINE: Free Calls & Messages : 500,000,000+\n",
      "Google Chrome: Fast & Secure : 1,000,000,000+\n",
      "Firefox Browser fast & private : 100,000,000+\n",
      "UC Browser - Fast Download Private & Secure : 500,000,000+\n",
      "Gmail : 1,000,000,000+\n",
      "Hangouts : 1,000,000,000+\n",
      "Messenger Lite: Free Calls & Messages : 100,000,000+\n",
      "Kik : 100,000,000+\n",
      "KakaoTalk: Free Calls & Text : 100,000,000+\n",
      "Opera Mini - fast web browser : 100,000,000+\n",
      "Opera Browser: Fast and Secure : 100,000,000+\n",
      "Telegram : 100,000,000+\n",
      "Truecaller: Caller ID, SMS spam blocking & Dialer : 100,000,000+\n",
      "UC Browser Mini -Tiny Fast Private & Secure : 100,000,000+\n",
      "Viber Messenger : 500,000,000+\n",
      "WeChat : 100,000,000+\n",
      "Yahoo Mail – Stay Organized : 100,000,000+\n",
      "BBM - Free Calls & Messages : 100,000,000+\n"
     ]
    }
   ],
   "source": [
    "for app in android_final:\n",
    "    if app[1] == 'COMMUNICATION' and (app[5] == '1,000,000,000+'\n",
    "                                      or app[5] == '500,000,000+'\n",
    "                                      or app[5] == '100,000,000+'):\n",
    "        print(app[0], ':', app[5])"
   ]
  },
  {
   "cell_type": "markdown",
   "metadata": {},
   "source": [
    "si removemos todas las apps de comunicacion con mas de 100 millones de instalaciones, el promedio se reduce drasticamente 10 veces:"
   ]
  },
  {
   "cell_type": "code",
   "execution_count": 236,
   "metadata": {},
   "outputs": [
    {
     "data": {
      "text/plain": [
       "3617398.420849421"
      ]
     },
     "execution_count": 236,
     "metadata": {},
     "output_type": "execute_result"
    }
   ],
   "source": [
    "\n",
    "under_100_m = []\n",
    "\n",
    "for app in android_final:\n",
    "    n_installs = app[5]\n",
    "    n_installs = n_installs.replace(',', '')\n",
    "    n_installs = n_installs.replace('+', '')\n",
    "    if (app[1] == 'COMMUNICATION') and (float(n_installs) < 100000000):\n",
    "        under_100_m.append(float(n_installs))\n",
    "        \n",
    "sum(under_100_m) / len(under_100_m)"
   ]
  },
  {
   "cell_type": "markdown",
   "metadata": {},
   "source": [
    "observamos el mismo patron para las categorias de video. El mercado esta dominado por apps como Yotube, Google Play Movies, o MX Player. El patron se repite para aplicaciones de redes sociales(Facebook, Instagram, Google+, etc.) fotografia(Google fotos y otros editores de fotografia).\n",
    "\n",
    "el genero de libros parece tambien bastante popular, con un promedio de 8,504,745, es interesante explorar esto en más profundidad.\n",
    "\n",
    "veamos las aplicaciones de este genero con el número de instalaciones:"
   ]
  },
  {
   "cell_type": "code",
   "execution_count": 237,
   "metadata": {},
   "outputs": [
    {
     "name": "stdout",
     "output_type": "stream",
     "text": [
      "E-Book Read - Read Book for free : 50,000+\n",
      "Download free book with green book : 100,000+\n",
      "Wikipedia : 10,000,000+\n",
      "Cool Reader : 10,000,000+\n",
      "Free Panda Radio Music : 100,000+\n",
      "Book store : 1,000,000+\n",
      "FBReader: Favorite Book Reader : 10,000,000+\n",
      "English Grammar Complete Handbook : 500,000+\n",
      "Free Books - Spirit Fanfiction and Stories : 1,000,000+\n",
      "Google Play Books : 1,000,000,000+\n",
      "AlReader -any text book reader : 5,000,000+\n",
      "Offline English Dictionary : 100,000+\n",
      "Offline: English to Tagalog Dictionary : 500,000+\n",
      "FamilySearch Tree : 1,000,000+\n",
      "Cloud of Books : 1,000,000+\n",
      "Recipes of Prophetic Medicine for free : 500,000+\n",
      "ReadEra – free ebook reader : 1,000,000+\n",
      "Anonymous caller detection : 10,000+\n",
      "Ebook Reader : 5,000,000+\n",
      "Litnet - E-books : 100,000+\n",
      "Read books online : 5,000,000+\n",
      "English to Urdu Dictionary : 500,000+\n",
      "eBoox: book reader fb2 epub zip : 1,000,000+\n",
      "English Persian Dictionary : 500,000+\n",
      "Flybook : 500,000+\n",
      "All Maths Formulas : 1,000,000+\n",
      "Ancestry : 5,000,000+\n",
      "HTC Help : 10,000,000+\n",
      "English translation from Bengali : 100,000+\n",
      "Pdf Book Download - Read Pdf Book : 100,000+\n",
      "Free Book Reader : 100,000+\n",
      "eBoox new: Reader for fb2 epub zip books : 50,000+\n",
      "Only 30 days in English, the guideline is guaranteed : 500,000+\n",
      "Moon+ Reader : 10,000,000+\n",
      "SH-02J Owner's Manual (Android 8.0) : 50,000+\n",
      "English-Myanmar Dictionary : 1,000,000+\n",
      "Golden Dictionary (EN-AR) : 1,000,000+\n",
      "All Language Translator Free : 1,000,000+\n",
      "Azpen eReader : 500,000+\n",
      "URBANO V 02 instruction manual : 100,000+\n",
      "Bible : 100,000,000+\n",
      "C Programs and Reference : 50,000+\n",
      "C Offline Tutorial : 1,000+\n",
      "C Programs Handbook : 50,000+\n",
      "Amazon Kindle : 100,000,000+\n",
      "Aab e Hayat Full Novel : 100,000+\n",
      "Aldiko Book Reader : 10,000,000+\n",
      "Google I/O 2018 : 500,000+\n",
      "R Language Reference Guide : 10,000+\n",
      "Learn R Programming Full : 5,000+\n",
      "R Programing Offline Tutorial : 1,000+\n",
      "Guide for R Programming : 5+\n",
      "Learn R Programming : 10+\n",
      "R Quick Reference Big Data : 1,000+\n",
      "V Made : 100,000+\n",
      "Wattpad 📖 Free Books : 100,000,000+\n",
      "Dictionary - WordWeb : 5,000,000+\n",
      "Guide (for X-MEN) : 100,000+\n",
      "AC Air condition Troubleshoot,Repair,Maintenance : 5,000+\n",
      "AE Bulletins : 1,000+\n",
      "Ae Allah na Dai (Rasa) : 10,000+\n",
      "50000 Free eBooks & Free AudioBooks : 5,000,000+\n",
      "Ag PhD Field Guide : 10,000+\n",
      "Ag PhD Deficiencies : 10,000+\n",
      "Ag PhD Planting Population Calculator : 1,000+\n",
      "Ag PhD Soybean Diseases : 1,000+\n",
      "Fertilizer Removal By Crop : 50,000+\n",
      "A-J Media Vault : 50+\n",
      "Al-Quran (Free) : 10,000,000+\n",
      "Al Quran (Tafsir & by Word) : 500,000+\n",
      "Al Quran Indonesia : 10,000,000+\n",
      "Al'Quran Bahasa Indonesia : 10,000,000+\n",
      "Al Quran Al karim : 1,000,000+\n",
      "Al-Muhaffiz : 50,000+\n",
      "Al Quran : EAlim - Translations & MP3 Offline : 5,000,000+\n",
      "Al-Quran 30 Juz free copies : 500,000+\n",
      "Koran Read &MP3 30 Juz Offline : 1,000,000+\n",
      "Hafizi Quran 15 lines per page : 1,000,000+\n",
      "Quran for Android : 10,000,000+\n",
      "Surah Al-Waqiah : 100,000+\n",
      "Hisnul Al Muslim - Hisn Invocations & Adhkaar : 100,000+\n",
      "Satellite AR : 1,000,000+\n",
      "Audiobooks from Audible : 100,000,000+\n",
      "Kinot & Eichah for Tisha B'Av : 10,000+\n",
      "AW Tozer Devotionals - Daily : 5,000+\n",
      "Tozer Devotional -Series 1 : 1,000+\n",
      "The Pursuit of God : 1,000+\n",
      "AY Sing : 5,000+\n",
      "Ay Hasnain k Nana Milad Naat : 10,000+\n",
      "Ay Mohabbat Teri Khatir Novel : 10,000+\n",
      "Arizona Statutes, ARS (AZ Law) : 1,000+\n",
      "Oxford A-Z of English Usage : 1,000,000+\n",
      "BD Fishpedia : 1,000+\n",
      "BD All Sim Offer : 10,000+\n",
      "Youboox - Livres, BD et magazines : 500,000+\n",
      "B&H Kids AR : 10,000+\n",
      "B y H Niños ES : 5,000+\n",
      "Dictionary.com: Find Definitions for English Words : 10,000,000+\n",
      "English Dictionary - Offline : 10,000,000+\n",
      "Bible KJV : 5,000,000+\n",
      "Borneo Bible, BM Bible : 10,000+\n",
      "MOD Black for BM : 100+\n",
      "BM Box : 1,000+\n",
      "Anime Mod for BM : 100+\n",
      "NOOK: Read eBooks & Magazines : 10,000,000+\n",
      "NOOK Audiobooks : 500,000+\n",
      "NOOK App for NOOK Devices : 500,000+\n",
      "Browsery by Barnes & Noble : 5,000+\n",
      "bp e-store : 1,000+\n",
      "Brilliant Quotes: Life, Love, Family & Motivation : 1,000,000+\n",
      "BR Ambedkar Biography & Quotes : 10,000+\n",
      "BU Alsace : 100+\n",
      "Catholic La Bu Zo Kam : 500+\n",
      "Khrifa Hla Bu (Solfa) : 10+\n",
      "Kristian Hla Bu : 10,000+\n",
      "SA HLA BU : 1,000+\n",
      "Learn SAP BW : 500+\n",
      "Learn SAP BW on HANA : 500+\n",
      "CA Laws 2018 (California Laws and Codes) : 5,000+\n",
      "Bootable Methods(USB-CD-DVD) : 10,000+\n",
      "cloudLibrary : 100,000+\n",
      "SDA Collegiate Quarterly : 500+\n",
      "Sabbath School : 100,000+\n",
      "Cypress College Library : 100+\n",
      "Stats Royale for Clash Royale : 1,000,000+\n",
      "GATE 21 years CS Papers(2011-2018 Solved) : 50+\n",
      "Learn CT Scan Of Head : 5,000+\n",
      "Easy Cv maker 2018 : 10,000+\n",
      "How to Write CV : 100,000+\n",
      "CW Nuclear : 1,000+\n",
      "CY Spray nozzle : 10+\n",
      "BibleRead En Cy Zh Yue : 5+\n",
      "CZ-Help : 5+\n",
      "Guide for DB Xenoverse : 10,000+\n",
      "Guide for DB Xenoverse 2 : 10,000+\n",
      "Guide for IMS DB : 10+\n",
      "DC HSEMA : 5,000+\n",
      "DC Public Library : 1,000+\n",
      "Painting Lulu DC Super Friends : 1,000+\n",
      "Dictionary : 10,000,000+\n",
      "Fix Error Google Playstore : 1,000+\n",
      "D. H. Lawrence Poems FREE : 1,000+\n",
      "Bilingual Dictionary Audio App : 5,000+\n",
      "DM Screen : 10,000+\n",
      "wikiHow: how to do anything : 1,000,000+\n",
      "Dr. Doug's Tips : 1,000+\n",
      "Bible du Semeur-BDS (French) : 50,000+\n",
      "La citadelle du musulman : 50,000+\n",
      "DV 2019 Entry Guide : 10,000+\n",
      "DV 2019 - EDV Photo & Form : 50,000+\n",
      "DV 2018 Winners Guide : 1,000+\n",
      "EB Annual Meetings : 1,000+\n",
      "EC - AP & Telangana : 5,000+\n",
      "TN Patta Citta & EC : 10,000+\n",
      "AP Stamps and Registration : 10,000+\n",
      "CompactiMa EC pH Calibration : 100+\n",
      "EGW Writings 2 : 100,000+\n",
      "EGW Writings : 1,000,000+\n",
      "Bible with EGW Comments : 100,000+\n",
      "My Little Pony AR Guide : 1,000,000+\n",
      "SDA Sabbath School Quarterly : 500,000+\n",
      "Duaa Ek Ibaadat : 5,000+\n",
      "Spanish English Translator : 10,000,000+\n",
      "Dictionary - Merriam-Webster : 10,000,000+\n",
      "JW Library : 10,000,000+\n",
      "Oxford Dictionary of English : Free : 10,000,000+\n",
      "English Hindi Dictionary : 10,000,000+\n",
      "English to Hindi Dictionary : 5,000,000+\n",
      "EP Research Service : 1,000+\n",
      "Hymnes et Louanges : 100,000+\n",
      "EU Charter : 1,000+\n",
      "EU Data Protection : 1,000+\n",
      "EU IP Codes : 100+\n",
      "EW PDF : 5+\n",
      "BakaReader EX : 100,000+\n",
      "EZ Quran : 50,000+\n",
      "FA Part 1 & 2 Past Papers Solved Free – Offline : 5,000+\n",
      "La Fe de Jesus : 1,000+\n",
      "La Fe de Jesús : 500+\n",
      "Le Fe de Jesus : 500+\n",
      "Florida - Pocket Brainbook : 1,000+\n",
      "Florida Statutes (FL Code) : 1,000+\n",
      "English To Shona Dictionary : 10,000+\n",
      "Greek Bible FP (Audio) : 1,000+\n",
      "Golden Dictionary (FR-AR) : 500,000+\n",
      "Fanfic-FR : 5,000+\n",
      "Bulgarian French Dictionary Fr : 10,000+\n",
      "Chemin (fr) : 1,000+\n",
      "The SCP Foundation DB fr nn5n : 1,000+\n"
     ]
    }
   ],
   "source": [
    "for app in android_final:\n",
    "    if app[1] == 'BOOKS_AND_REFERENCE':\n",
    "        print(app[0], ':', app[5])"
   ]
  },
  {
   "cell_type": "markdown",
   "metadata": {},
   "source": [
    "aun parece que que un numero pequeño de app contiene un gran numero de descargas"
   ]
  },
  {
   "cell_type": "code",
   "execution_count": 239,
   "metadata": {},
   "outputs": [
    {
     "name": "stdout",
     "output_type": "stream",
     "text": [
      "Google Play Books : 1,000,000,000+\n",
      "Bible : 100,000,000+\n",
      "Amazon Kindle : 100,000,000+\n",
      "Wattpad 📖 Free Books : 100,000,000+\n",
      "Audiobooks from Audible : 100,000,000+\n"
     ]
    }
   ],
   "source": [
    "for app in android_final:\n",
    "    if app[1] == 'BOOKS_AND_REFERENCE' and (app[5] == '1,000,000,000+'\n",
    "                                            or app[5] == '500,000,000+'\n",
    "                                            or app[5] == '100,000,000+'):\n",
    "        print(app[0], ':', app[5])"
   ]
  },
  {
   "cell_type": "markdown",
   "metadata": {},
   "source": [
    "Siun embargo parece que hay apps muy populares con un gran numero de descargas, asi que eso nos muestra potencial. Intentemos obtener algunas ideas basandonos en el tipo de apps que estan a mitad de camino  (entre 1,000,000 y 100,000,000 descargas):"
   ]
  },
  {
   "cell_type": "code",
   "execution_count": 240,
   "metadata": {},
   "outputs": [
    {
     "name": "stdout",
     "output_type": "stream",
     "text": [
      "Wikipedia : 10,000,000+\n",
      "Cool Reader : 10,000,000+\n",
      "Book store : 1,000,000+\n",
      "FBReader: Favorite Book Reader : 10,000,000+\n",
      "Free Books - Spirit Fanfiction and Stories : 1,000,000+\n",
      "AlReader -any text book reader : 5,000,000+\n",
      "FamilySearch Tree : 1,000,000+\n",
      "Cloud of Books : 1,000,000+\n",
      "ReadEra – free ebook reader : 1,000,000+\n",
      "Ebook Reader : 5,000,000+\n",
      "Read books online : 5,000,000+\n",
      "eBoox: book reader fb2 epub zip : 1,000,000+\n",
      "All Maths Formulas : 1,000,000+\n",
      "Ancestry : 5,000,000+\n",
      "HTC Help : 10,000,000+\n",
      "Moon+ Reader : 10,000,000+\n",
      "English-Myanmar Dictionary : 1,000,000+\n",
      "Golden Dictionary (EN-AR) : 1,000,000+\n",
      "All Language Translator Free : 1,000,000+\n",
      "Aldiko Book Reader : 10,000,000+\n",
      "Dictionary - WordWeb : 5,000,000+\n",
      "50000 Free eBooks & Free AudioBooks : 5,000,000+\n",
      "Al-Quran (Free) : 10,000,000+\n",
      "Al Quran Indonesia : 10,000,000+\n",
      "Al'Quran Bahasa Indonesia : 10,000,000+\n",
      "Al Quran Al karim : 1,000,000+\n",
      "Al Quran : EAlim - Translations & MP3 Offline : 5,000,000+\n",
      "Koran Read &MP3 30 Juz Offline : 1,000,000+\n",
      "Hafizi Quran 15 lines per page : 1,000,000+\n",
      "Quran for Android : 10,000,000+\n",
      "Satellite AR : 1,000,000+\n",
      "Oxford A-Z of English Usage : 1,000,000+\n",
      "Dictionary.com: Find Definitions for English Words : 10,000,000+\n",
      "English Dictionary - Offline : 10,000,000+\n",
      "Bible KJV : 5,000,000+\n",
      "NOOK: Read eBooks & Magazines : 10,000,000+\n",
      "Brilliant Quotes: Life, Love, Family & Motivation : 1,000,000+\n",
      "Stats Royale for Clash Royale : 1,000,000+\n",
      "Dictionary : 10,000,000+\n",
      "wikiHow: how to do anything : 1,000,000+\n",
      "EGW Writings : 1,000,000+\n",
      "My Little Pony AR Guide : 1,000,000+\n",
      "Spanish English Translator : 10,000,000+\n",
      "Dictionary - Merriam-Webster : 10,000,000+\n",
      "JW Library : 10,000,000+\n",
      "Oxford Dictionary of English : Free : 10,000,000+\n",
      "English Hindi Dictionary : 10,000,000+\n",
      "English to Hindi Dictionary : 5,000,000+\n"
     ]
    }
   ],
   "source": [
    "for app in android_final:\n",
    "    if app[1] == 'BOOKS_AND_REFERENCE' and (app[5] == '1,000,000+'\n",
    "                                            or app[5] == '5,000,000+'\n",
    "                                            or app[5] == '10,000,000+'\n",
    "                                            or app[5] == '50,000,000+'):\n",
    "        print(app[0], ':', app[5])"
   ]
  },
  {
   "cell_type": "markdown",
   "metadata": {},
   "source": [
    "Este nicho parece estar dominado por aplicaciones para procesar y leer ebooks, asi como varias colecciones de librerias y diccionarios, asi que no es buena idea construir una aplicacion similar.\n",
    "\n",
    "Podemos notar que hay algunas aplicaciones escritas acerca del *Quran*, lo cual sugiere que construir aplicaciones acerca de libros populares puede ser redituable para ambas Stores. Parece que para que la aplicacion sea atractiva habria que agregar más funciones, como citas del libro, una version de audio, cuestionarios, y foros donde la gente pueda discutir el libro. etc.\n",
    "\n",
    "*CONCLUSIONES*\n",
    "\n",
    "En este proyecto analizamos datos acerca de la App Store y Google Play con la meta de recomendar una app que sea redituable en ambas stores.\n",
    "\n",
    "Concluimos que tomar un libro popular(tal vez reciente) y convertirlo en una app podria ser redituable para ambas stores. Las stores estan ya llenas de librerias, asi que necesitamos agregar funciones especiales, esto puede incluir citas del libro, una version de audio"
   ]
  }
 ],
 "metadata": {
  "kernelspec": {
   "display_name": "Python 3",
   "language": "python",
   "name": "python3"
  },
  "language_info": {
   "codemirror_mode": {
    "name": "ipython",
    "version": 3
   },
   "file_extension": ".py",
   "mimetype": "text/x-python",
   "name": "python",
   "nbconvert_exporter": "python",
   "pygments_lexer": "ipython3",
   "version": "3.7.1"
  }
 },
 "nbformat": 4,
 "nbformat_minor": 2
}
