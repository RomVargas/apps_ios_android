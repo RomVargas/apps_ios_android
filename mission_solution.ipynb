{
 "cells": [
  {
   "cell_type": "markdown",
   "metadata": {},
   "source": [
    "/**********************************************/\n",
    "Ganancias de aplicacion en AppStore y PlayStore\n",
    "/**********************************************/\n",
    "\n",
    "El objetivo de este proyecto es encontrar las ganancias de las palicaciones desplegadas en appstore y playstore\n",
    "\n",
    "- en Septiembre del 2018 había aproximadamente 2 millones de apps disponobles el appStore y 2.1 millones de aplicaciones disponibles en PlayStore\n",
    "\n",
    "- se tienen 2 data sets obtenidos de Kaggle.com\n",
    "\n",
    "- Empecemos por abrir los 2 data sets"
   ]
  },
  {
   "cell_type": "code",
   "execution_count": 151,
   "metadata": {},
   "outputs": [],
   "source": [
    "from csv import reader\n",
    "\n",
    "### The Google Play data set ###\n",
    "opened_file = open('googleplaystore.csv',encoding=\"utf-8\")\n",
    "read_file = reader(opened_file)\n",
    "android = list(read_file)\n",
    "android_header = android[0]\n",
    "android = android[1:]\n",
    "\n",
    "### The App Store data set ###\n",
    "opened_file = open('AppleStore.csv', encoding='utf-8')\n",
    "read_file = reader(opened_file)\n",
    "ios = list(read_file)\n",
    "ios_header = ios[0]\n",
    "ios = ios[1:]"
   ]
  },
  {
   "cell_type": "markdown",
   "metadata": {},
   "source": [
    "para hacer la exploracion más sencilla los data sets, se generara funcion axplore_data() para usarla de forma repetitiva para explorara datos, se muestra numero de filas y columnas para cualquier set de datos."
   ]
  },
  {
   "cell_type": "code",
   "execution_count": 152,
   "metadata": {},
   "outputs": [
    {
     "name": "stdout",
     "output_type": "stream",
     "text": [
      "['App', 'Category', 'Rating', 'Reviews', 'Size', 'Installs', 'Type', 'Price', 'Content Rating', 'Genres', 'Last Updated', 'Current Ver', 'Android Ver']\n",
      "\n",
      "\n",
      "['Photo Editor & Candy Camera & Grid & ScrapBook', 'ART_AND_DESIGN', '4.1', '159', '19M', '10,000+', 'Free', '0', 'Everyone', 'Art & Design', 'January 7, 2018', '1.0.0', '4.0.3 and up']\n",
      "\n",
      "\n",
      "['Coloring book moana', 'ART_AND_DESIGN', '3.9', '967', '14M', '500,000+', 'Free', '0', 'Everyone', 'Art & Design;Pretend Play', 'January 15, 2018', '2.0.0', '4.0.3 and up']\n",
      "\n",
      "\n",
      "['U Launcher Lite – FREE Live Cool Themes, Hide Apps', 'ART_AND_DESIGN', '4.7', '87510', '8.7M', '5,000,000+', 'Free', '0', 'Everyone', 'Art & Design', 'August 1, 2018', '1.2.4', '4.0.3 and up']\n",
      "\n",
      "\n",
      "Numero de lineas: 10841\n",
      "Numero de columnas: 13\n"
     ]
    }
   ],
   "source": [
    "def explore_data(dataset, start, end, rows_and_columns=False):\n",
    "    dataset_slice = dataset[start:end]\n",
    "    for row in dataset_slice:\n",
    "        print(row)\n",
    "        print('\\n')\n",
    "        \n",
    "    if rows_and_columns:\n",
    "        print('Numero de lineas:', len(dataset))\n",
    "        print('Numero de columnas:', len(dataset[0]))\n",
    "\n",
    "print(android_header)\n",
    "print('\\n')\n",
    "explore_data(android, 0, 3, True)"
   ]
  },
  {
   "cell_type": "markdown",
   "metadata": {},
   "source": [
    "verificamos que el data set de Google contiene 10841 apps y 13 columnas, las columnas que pudieran sernos de utilidad son: 'App', 'Category', 'Reviews', 'Installs', 'Type', 'Price', and 'Genres'."
   ]
  },
  {
   "cell_type": "code",
   "execution_count": 153,
   "metadata": {},
   "outputs": [
    {
     "name": "stdout",
     "output_type": "stream",
     "text": [
      "['', 'id', 'track_name', 'size_bytes', 'currency', 'price', 'rating_count_tot', 'rating_count_ver', 'user_rating', 'user_rating_ver', 'ver', 'cont_rating', 'prime_genre', 'sup_devices.num', 'ipadSc_urls.num', 'lang.num', 'vpp_lic']\n",
      "\n",
      "\n",
      "['1', '281656475', 'PAC-MAN Premium', '100788224', 'USD', '3.99', '21292', '26', '4', '4.5', '6.3.5', '4+', 'Games', '38', '5', '10', '1']\n",
      "\n",
      "\n",
      "['2', '281796108', 'Evernote - stay organized', '158578688', 'USD', '0', '161065', '26', '4', '3.5', '8.2.2', '4+', 'Productivity', '37', '5', '23', '1']\n",
      "\n",
      "\n",
      "['3', '281940292', 'WeatherBug - Local Weather, Radar, Maps, Alerts', '100524032', 'USD', '0', '188583', '2822', '3.5', '4.5', '5.0.0', '4+', 'Weather', '37', '5', '3', '1']\n",
      "\n",
      "\n",
      "Numero de lineas: 7197\n",
      "Numero de columnas: 17\n"
     ]
    }
   ],
   "source": [
    "print(ios_header)\n",
    "print('\\n')\n",
    "explore_data(ios, 0, 3, True)"
   ]
  },
  {
   "cell_type": "markdown",
   "metadata": {},
   "source": [
    "verificamos el dataset de iOS que contiene 7197 apps y 16 columnas"
   ]
  },
  {
   "cell_type": "markdown",
   "metadata": {},
   "source": [
    "/***borrar datos erroneos***/, hoy un error en el registro 10472"
   ]
  },
  {
   "cell_type": "code",
   "execution_count": 154,
   "metadata": {},
   "outputs": [
    {
     "name": "stdout",
     "output_type": "stream",
     "text": [
      "['Life Made WI-Fi Touchscreen Photo Frame', '1.9', '19', '3.0M', '1,000+', 'Free', '0', 'Everyone', '', 'February 11, 2018', '1.0.19', '4.0 and up']\n",
      "\n",
      "\n",
      "['App', 'Category', 'Rating', 'Reviews', 'Size', 'Installs', 'Type', 'Price', 'Content Rating', 'Genres', 'Last Updated', 'Current Ver', 'Android Ver']\n",
      "\n",
      "\n",
      "['Photo Editor & Candy Camera & Grid & ScrapBook', 'ART_AND_DESIGN', '4.1', '159', '19M', '10,000+', 'Free', '0', 'Everyone', 'Art & Design', 'January 7, 2018', '1.0.0', '4.0.3 and up']\n"
     ]
    }
   ],
   "source": [
    "print(android[10472])  # linea incorrecto\n",
    "print('\\n')\n",
    "print(android_header)  # header\n",
    "print('\\n')\n",
    "print(android[0])      # linea correcta"
   ]
  },
  {
   "cell_type": "markdown",
   "metadata": {},
   "source": [
    "la lineas 10472 corresponde a la app Life Made WI-Fi Touchscreen Photo Frame, y tiene de rating '19', esto es incorrecto por q la calificacion maxima de Google Play es 5, asi que borramos esta linea."
   ]
  },
  {
   "cell_type": "code",
   "execution_count": 155,
   "metadata": {},
   "outputs": [
    {
     "name": "stdout",
     "output_type": "stream",
     "text": [
      "10841\n",
      "10840\n"
     ]
    }
   ],
   "source": [
    "print(len(android))\n",
    "del android[10472]  # no correr esta lina mas de 1 vez\n",
    "print(len(android))"
   ]
  },
  {
   "cell_type": "markdown",
   "metadata": {},
   "source": [
    "/**** REMOVER DATOS DUPLICADOS ****/\n",
    "\n",
    "PARTE UNO\n",
    "\n",
    "Si exploramos el data set de Google podemos ver apps con más de 1 registro, por ejemplo Instagram"
   ]
  },
  {
   "cell_type": "code",
   "execution_count": 156,
   "metadata": {},
   "outputs": [
    {
     "name": "stdout",
     "output_type": "stream",
     "text": [
      "['Instagram', 'SOCIAL', '4.5', '66577313', 'Varies with device', '1,000,000,000+', 'Free', '0', 'Teen', 'Social', 'July 31, 2018', 'Varies with device', 'Varies with device']\n",
      "['Instagram', 'SOCIAL', '4.5', '66577446', 'Varies with device', '1,000,000,000+', 'Free', '0', 'Teen', 'Social', 'July 31, 2018', 'Varies with device', 'Varies with device']\n",
      "['Instagram', 'SOCIAL', '4.5', '66577313', 'Varies with device', '1,000,000,000+', 'Free', '0', 'Teen', 'Social', 'July 31, 2018', 'Varies with device', 'Varies with device']\n",
      "['Instagram', 'SOCIAL', '4.5', '66509917', 'Varies with device', '1,000,000,000+', 'Free', '0', 'Teen', 'Social', 'July 31, 2018', 'Varies with device', 'Varies with device']\n"
     ]
    }
   ],
   "source": [
    "for app in android:\n",
    "    name = app[0]\n",
    "    if name == 'Instagram':\n",
    "        print(app)"
   ]
  },
  {
   "cell_type": "markdown",
   "metadata": {},
   "source": [
    "En total hay 1181 casos donde las apps aparecen más de una vez"
   ]
  },
  {
   "cell_type": "code",
   "execution_count": 157,
   "metadata": {},
   "outputs": [
    {
     "name": "stdout",
     "output_type": "stream",
     "text": [
      "Numero duplicado de apps:  1181\n",
      "\n",
      "\n",
      "Ejemplo de apps duplicadas:  ['Quick PDF Scanner + OCR FREE', 'Box', 'Google My Business', 'ZOOM Cloud Meetings', 'join.me - Simple Meetings', 'Box', 'Zenefits', 'Google Ads', 'Google My Business', 'Slack', 'FreshBooks Classic', 'Insightly CRM', 'QuickBooks Accounting: Invoicing & Expenses', 'HipChat - Chat Built for Teams', 'Xero Accounting Software']\n"
     ]
    }
   ],
   "source": [
    "duplicate_apps = []\n",
    "unique_apps = []\n",
    "\n",
    "for app in android:\n",
    "    name = app[0]\n",
    "    if name in unique_apps:\n",
    "        duplicate_apps.append(name)\n",
    "    else:\n",
    "        unique_apps.append(name)\n",
    "        \n",
    "print('Numero duplicado de apps: ', len(duplicate_apps))\n",
    "print('\\n')\n",
    "print('Ejemplo de apps duplicadas: ', duplicate_apps[:15])"
   ]
  },
  {
   "cell_type": "markdown",
   "metadata": {},
   "source": [
    "No queremos contar ciertas applicaciones más de una vez al momento de analizar el dataset, así que eliminamos datos repetidos.\n",
    "\n",
    "Si se examinan las lineas impresas, se observa una diferencia en la cuarta posicion de cada fila, la cual corresponde a al numero de revisiones. Los diferentes numeros muestran que los datos fueron recolectados en diferentes tiempos. Podemos usar estos datos para construir un criterio para las siguientes fila. No queremos removerlas de forma aleatoria, si no que nos quedamos con los numeros mas altos de revisiones.\n",
    "\n",
    "Para hacer eso haremos lo siguiente:\n",
    "\n",
    "* Crear un diccionario donde cada llave es el nombre unico de una app, y el como valor, la revision mas alta.\n",
    "* Usar el diccionario para crea5r un nuevo data set, el cual tendra solo una entrada por app(y solo seleccionaremos la apps con el numero más alto de revisiones\n",
    "\n",
    "Empecemos por construir el diccionario:"
   ]
  },
  {
   "cell_type": "code",
   "execution_count": 158,
   "metadata": {},
   "outputs": [],
   "source": [
    "reviews_max = {}\n",
    "\n",
    "for app in android:\n",
    "    name = app[0]\n",
    "    n_reviews = float(app[3])\n",
    "    \n",
    "    if name in reviews_max and reviews_max[name] < n_reviews:\n",
    "        reviews_max[name] = n_reviews\n",
    "        \n",
    "    elif name not in reviews_max:\n",
    "        reviews_max[name] = n_reviews\n",
    "        \n",
    "     "
   ]
  },
  {
   "cell_type": "markdown",
   "metadata": {},
   "source": [
    "en la celda anterior encontramos 1181 casos donde una app aparece más de 1 vez, asi que la longitud de nuestro diccionario debe ser igual a la diferencia entre la longitud de nuestro data set y 1181\n"
   ]
  },
  {
   "cell_type": "code",
   "execution_count": 159,
   "metadata": {},
   "outputs": [
    {
     "name": "stdout",
     "output_type": "stream",
     "text": [
      "Longitud esperada 9659\n",
      "longitud actual 9659\n"
     ]
    }
   ],
   "source": [
    "print('Longitud esperada', len(android) - 1181)\n",
    "print('longitud actual' , len(reviews_max))"
   ]
  },
  {
   "cell_type": "markdown",
   "metadata": {},
   "source": [
    "ahora usaremos el diccionario para remover dupliacdos, haremos lo siguiente:\n",
    "\n",
    "* inicializamos 2 listas vacias *android_clean* y *already_added*\n",
    "* recorremos el data set android y por cada iteracion haremos:\n",
    "    * obtendremos el nombre de  la app y numero de revisiones\n",
    "    * agregamos la linea a la lista *android_clean* y el nombre a la lista *already_cleaned* si:\n",
    "        * el numero de revisiones de la app es igual a el número de revisiones de esa app descritra en el diccionario                     *reviews_max*, y:\n",
    "        * el nombre de la app no se encuentra en la lista *already_added*. Necesitamos agregar esta condicion suplemenrtaria."
   ]
  },
  {
   "cell_type": "code",
   "execution_count": 160,
   "metadata": {},
   "outputs": [],
   "source": [
    "android_clean = []\n",
    "already_added = []\n",
    "\n",
    "for app in android:\n",
    "    name = app[0]\n",
    "    n_reviews = float(app[3])\n",
    "    \n",
    "    if (reviews_max[name] == n_reviews) and (name not in already_added):\n",
    "        android_clean.append(app)\n",
    "        already_added.append(name) #Esto debe ir dentro del bloque if"
   ]
  },
  {
   "cell_type": "markdown",
   "metadata": {},
   "source": [
    "ahora exploremos rapidamente el nuevo data set y confirmamos que el numero de lineas son 9659"
   ]
  },
  {
   "cell_type": "code",
   "execution_count": 161,
   "metadata": {},
   "outputs": [
    {
     "name": "stdout",
     "output_type": "stream",
     "text": [
      "['Photo Editor & Candy Camera & Grid & ScrapBook', 'ART_AND_DESIGN', '4.1', '159', '19M', '10,000+', 'Free', '0', 'Everyone', 'Art & Design', 'January 7, 2018', '1.0.0', '4.0.3 and up']\n",
      "\n",
      "\n",
      "['U Launcher Lite – FREE Live Cool Themes, Hide Apps', 'ART_AND_DESIGN', '4.7', '87510', '8.7M', '5,000,000+', 'Free', '0', 'Everyone', 'Art & Design', 'August 1, 2018', '1.2.4', '4.0.3 and up']\n",
      "\n",
      "\n",
      "['Sketch - Draw & Paint', 'ART_AND_DESIGN', '4.5', '215644', '25M', '50,000,000+', 'Free', '0', 'Teen', 'Art & Design', 'June 8, 2018', 'Varies with device', '4.2 and up']\n",
      "\n",
      "\n",
      "Numero de lineas: 9659\n",
      "Numero de columnas: 13\n"
     ]
    }
   ],
   "source": [
    "explore_data(android_clean, 0, 3, True)"
   ]
  },
  {
   "cell_type": "markdown",
   "metadata": {},
   "source": [
    "se obtienen 9659 lineas como era esperado"
   ]
  },
  {
   "cell_type": "markdown",
   "metadata": {},
   "source": [
    "/**REMOVIENDO APLICACIONES QUE NO ESTAN EN INGLES**/\n",
    "\n",
    "PARTE UNO\n",
    "\n",
    "si exploramos el data set, notamos que hay nombres de aplicaciones en caracteres orientales, a continuacion se muestran algunos ejemplos:"
   ]
  },
  {
   "cell_type": "code",
   "execution_count": 162,
   "metadata": {},
   "outputs": [
    {
     "name": "stdout",
     "output_type": "stream",
     "text": [
      "436672029\n",
      "1144164707\n",
      "中国語 AQリスニング\n",
      "لعبة تقدر تربح DZ\n"
     ]
    }
   ],
   "source": [
    "print(ios[813][1])\n",
    "print(ios[6731][1])\n",
    "\n",
    "print(android_clean[4412][0])\n",
    "print(android_clean[7940][0])"
   ]
  },
  {
   "cell_type": "markdown",
   "metadata": {},
   "source": [
    "No nos interesa mantener estas apps en nuestro Data Set, asi que las removeremos. Un modo de hacer esto es eliminar cada nombre que contenga simbolos fuera de los caracteres especiales y otros simbolos (., !, ?, ;, etc.), (+, *, /, etc.).\n",
    "\n",
    "- Construiremos una funcion y usaremos la funcion ord() para encontrar el encoding especifico a cada caracter."
   ]
  },
  {
   "cell_type": "code",
   "execution_count": 163,
   "metadata": {},
   "outputs": [
    {
     "name": "stdout",
     "output_type": "stream",
     "text": [
      "True\n",
      "False\n"
     ]
    }
   ],
   "source": [
    "def is_english(string):\n",
    "    \n",
    "    for character in string:\n",
    "        if ord(character) > 127:\n",
    "            return False\n",
    "    \n",
    "    return True\n",
    "\n",
    "print(is_english('Instagram'))\n",
    "print(is_english('爱奇艺PPS -《欢乐颂2》电视剧热播'))"
   ]
  },
  {
   "cell_type": "markdown",
   "metadata": {},
   "source": [
    "Esta funcion parece funcionar de forma correcta, pero algunas aplicaciones usan en sus nombre emojis u otros simbolos  (™, — (em dash), – (en dash), etc.), eso cae fuera del rango ASCII, eso nos haria remover aplicsaciones que nos son utiles"
   ]
  },
  {
   "cell_type": "code",
   "execution_count": 164,
   "metadata": {},
   "outputs": [
    {
     "name": "stdout",
     "output_type": "stream",
     "text": [
      "False\n",
      "False\n",
      "8482\n",
      "128540\n"
     ]
    }
   ],
   "source": [
    "print(is_english('Docs To Go™ Free Office Suite'))\n",
    "print(is_english('Instachat 😜'))\n",
    "\n",
    "print(ord('™'))\n",
    "print(ord('😜'))"
   ]
  },
  {
   "cell_type": "markdown",
   "metadata": {},
   "source": [
    "*PARTE DOS*\n",
    "\n",
    "Para minimizar el impacto de la perdida de datos solo removeremos las apps que en su nombre contengan mas de 3 caracteres *no-ASCII*"
   ]
  },
  {
   "cell_type": "code",
   "execution_count": 165,
   "metadata": {},
   "outputs": [
    {
     "name": "stdout",
     "output_type": "stream",
     "text": [
      "True\n",
      "True\n"
     ]
    }
   ],
   "source": [
    "def is_english(string):\n",
    "    non_ascii = 0\n",
    "    \n",
    "    for character in string:\n",
    "        if ord(character) > 127:\n",
    "            non_ascii += 1\n",
    "    \n",
    "    if non_ascii > 5:\n",
    "        return False\n",
    "    else:\n",
    "        return True\n",
    "\n",
    "print(is_english('Docs To Go™ Free Office Suite'))\n",
    "print(is_english('Instachat 😜'))"
   ]
  },
  {
   "cell_type": "markdown",
   "metadata": {},
   "source": [
    "bnuestra funcion no es perfecta, pudiera haber aplicaciones que pasan nuestro filtro, pero a este punto no debemos gastar mucho tiempo optimizando este filtro.\n",
    "\n",
    "A continuacion usamos nuestra funcion *is_english()* para filtrar ambos data sets."
   ]
  },
  {
   "cell_type": "code",
   "execution_count": 166,
   "metadata": {},
   "outputs": [
    {
     "name": "stdout",
     "output_type": "stream",
     "text": [
      "['Photo Editor & Candy Camera & Grid & ScrapBook', 'ART_AND_DESIGN', '4.1', '159', '19M', '10,000+', 'Free', '0', 'Everyone', 'Art & Design', 'January 7, 2018', '1.0.0', '4.0.3 and up']\n",
      "\n",
      "\n",
      "['U Launcher Lite – FREE Live Cool Themes, Hide Apps', 'ART_AND_DESIGN', '4.7', '87510', '8.7M', '5,000,000+', 'Free', '0', 'Everyone', 'Art & Design', 'August 1, 2018', '1.2.4', '4.0.3 and up']\n",
      "\n",
      "\n",
      "['Sketch - Draw & Paint', 'ART_AND_DESIGN', '4.5', '215644', '25M', '50,000,000+', 'Free', '0', 'Teen', 'Art & Design', 'June 8, 2018', 'Varies with device', '4.2 and up']\n",
      "\n",
      "\n",
      "Numero de lineas: 9629\n",
      "Numero de columnas: 13\n",
      "\n",
      "\n",
      "['1', '281656475', 'PAC-MAN Premium', '100788224', 'USD', '3.99', '21292', '26', '4', '4.5', '6.3.5', '4+', 'Games', '38', '5', '10', '1']\n",
      "\n",
      "\n",
      "['2', '281796108', 'Evernote - stay organized', '158578688', 'USD', '0', '161065', '26', '4', '3.5', '8.2.2', '4+', 'Productivity', '37', '5', '23', '1']\n",
      "\n",
      "\n",
      "['3', '281940292', 'WeatherBug - Local Weather, Radar, Maps, Alerts', '100524032', 'USD', '0', '188583', '2822', '3.5', '4.5', '5.0.0', '4+', 'Weather', '37', '5', '3', '1']\n",
      "\n",
      "\n",
      "Numero de lineas: 7197\n",
      "Numero de columnas: 17\n"
     ]
    }
   ],
   "source": [
    "android_english = []\n",
    "ios_english = []\n",
    "\n",
    "for app in android_clean:\n",
    "    name = app[0]\n",
    "    if is_english(name):\n",
    "        android_english.append(app)\n",
    "        \n",
    "for app in ios:\n",
    "    name = app[1]\n",
    "    if is_english(name):\n",
    "        ios_english.append(app)\n",
    "        \n",
    "explore_data(android_english, 0, 3, True)\n",
    "print('\\n')\n",
    "explore_data(ios_english, 0, 3, True)"
   ]
  },
  {
   "cell_type": "markdown",
   "metadata": {},
   "source": [
    "verificamos resultados!!\n",
    "\n",
    "*AISLANDO APLICACIONES GRATUITAS*\n",
    "\n",
    "Como mencionamos al principio solo necesitamos para nuestro analisis las aplicaciones gratuitas; nuestros data sets contiene aplicaciones gratuitas y de paga, y necesitamos aislar las palicaciones gratuitas en ambos data sets."
   ]
  },
  {
   "cell_type": "code",
   "execution_count": 167,
   "metadata": {},
   "outputs": [
    {
     "name": "stdout",
     "output_type": "stream",
     "text": [
      "8879\n",
      "4056\n"
     ]
    }
   ],
   "source": [
    "android_final = []\n",
    "ios_final = []\n",
    "\n",
    "for app in android_english:\n",
    "    price = app[7]\n",
    "    if price == '0':\n",
    "        android_final.append(app)\n",
    "        \n",
    "for app in ios_english:\n",
    "    price = app[5]\n",
    "    if price == '0':\n",
    "        ios_final.append(app)\n",
    "\n",
    "        \n",
    "print(len(android_final))\n",
    "print(len(ios_final))"
   ]
  },
  {
   "cell_type": "markdown",
   "metadata": {},
   "source": [
    "obtenemos 8864 apps Android y 4056 apps iOS, los cuales son suficientes para nuestro analisis."
   ]
  },
  {
   "cell_type": "markdown",
   "metadata": {},
   "source": [
    "*APLICACIONES MAS COMUNES POR GENERO*\n",
    "\n",
    "-PARTE UNO-\n",
    "\n",
    "* Como se menciono en la introduccion, nuestra meta es determinar el tipo de aplicaciones que son más atractivas a los usuarios, debido a que nuestros resultados son altamente influenciados por el número de personas que usan las aplicaciones.\n",
    "\n",
    "para minimizar los riesgos, nuestra estrategia de validacion esta compuesta por 3 pasos:\n",
    "\n",
    "1.- construir una version minima de la aplicacion Android y agregarla a Google Play.\n",
    "2.- si la app tiene buena respuesta se desarrollara lo siguiente.\n",
    "3.- si la aplicacion tiene ganancias despues de 6 meses, tambien se construira una Version para iOS de la aplicación.\n",
    "\n",
    "-PARTE DOS-\n",
    "\n",
    "construiremos 2 funciones que usaremos para analizar la frecuencia en las tablas"
   ]
  },
  {
   "cell_type": "code",
   "execution_count": 168,
   "metadata": {},
   "outputs": [],
   "source": [
    "def freq_table(dataset, index):\n",
    "    table= {}\n",
    "    total = 0\n",
    "    \n",
    "    for row in dataset:\n",
    "        total += 1\n",
    "        value = row[index]\n",
    "        if value in table:\n",
    "            table[value] += 1\n",
    "        else:\n",
    "            table[value] = 1\n",
    "            \n",
    "    table_percentages = {}\n",
    "    for key in table:\n",
    "        percentage = (table[key] / total) * 100\n",
    "        table_percentages[key] = percentage\n",
    "        \n",
    "    return table_percentages\n",
    "\n",
    "def display_table(dataset, index):\n",
    "    table = freq_table(dataset, index)\n",
    "    table_display = []\n",
    "    for key in table:\n",
    "        key_val_as_tuple = (table[key], key)\n",
    "        table_display.append(key_val_as_tuple)\n",
    "        \n",
    "    table_sorted = sorted(table_display, reverse = True)\n",
    "    for entry in table_sorted:\n",
    "        print(entry[1], \":\", entry[0])"
   ]
  },
  {
   "cell_type": "markdown",
   "metadata": {},
   "source": [
    "*PARTE TRES*\n",
    "\n",
    "- Empezamos a examinar la frencuencia en las tablas para la columna prime_genre del data set de App Store."
   ]
  },
  {
   "cell_type": "code",
   "execution_count": 169,
   "metadata": {},
   "outputs": [
    {
     "name": "stdout",
     "output_type": "stream",
     "text": [
      "Games : 55.64595660749507\n",
      "Entertainment : 8.234714003944774\n",
      "Photo & Video : 4.117357001972387\n",
      "Social Networking : 3.5256410256410255\n",
      "Education : 3.2544378698224854\n",
      "Shopping : 2.983234714003945\n",
      "Utilities : 2.687376725838264\n",
      "Lifestyle : 2.3175542406311638\n",
      "Finance : 2.0710059171597637\n",
      "Sports : 1.947731755424063\n",
      "Health & Fitness : 1.8737672583826428\n",
      "Music : 1.6518737672583828\n",
      "Book : 1.6272189349112427\n",
      "Productivity : 1.5285996055226825\n",
      "News : 1.4299802761341223\n",
      "Travel : 1.3806706114398422\n",
      "Food & Drink : 1.0601577909270217\n",
      "Weather : 0.7642998027613412\n",
      "Reference : 0.4930966469428008\n",
      "Navigation : 0.4930966469428008\n",
      "Business : 0.4930966469428008\n",
      "Catalogs : 0.22189349112426035\n",
      "Medical : 0.19723865877712032\n"
     ]
    }
   ],
   "source": [
    "display_table(ios_final, -5)"
   ]
  },
  {
   "cell_type": "markdown",
   "metadata": {},
   "source": [
    "podemos ver que entre las aplicaciones gratuitas mas de la mitad (55.15%) son juegos, entretenimiento(8.23%) seguido de aplicaciones de foto y video. Solo el 3.25% estan dedicadas a la educacion.\n",
    "\n",
    "La impresion general es que la App Store(al menos la parte que contiene las aplicaciones gratuitas) esta dominada por aplicaciones diseñadas para el entretenimiento (juegos, entretenimiento, fotos y video), mientras que aplicaciones de proposito practico(educacion, compras, utilidades, productividad, estilo de vida, etc.) son mas escasas. Sin embargo, el hecho de que las aplicaciones para entretenimiento son mas numerosas no implica que tengan el mayor nuemro de usuarios, la demanda tal vez no sea igual que la oferta.\n",
    "\n",
    "Continuemos examinando Genero y categoria del data set de Google Play"
   ]
  },
  {
   "cell_type": "code",
   "execution_count": 170,
   "metadata": {},
   "outputs": [
    {
     "name": "stdout",
     "output_type": "stream",
     "text": [
      "FAMILY : 18.921049667755376\n",
      "GAME : 9.708300484288772\n",
      "TOOLS : 8.446897173105079\n",
      "BUSINESS : 4.5951120621691635\n",
      "LIFESTYLE : 3.9193602883207572\n",
      "PRODUCTIVITY : 3.885572699628337\n",
      "FINANCE : 3.6941096970379546\n",
      "MEDICAL : 3.525171753575853\n",
      "SPORTS : 3.390021398806172\n",
      "PERSONALIZATION : 3.322446221421331\n",
      "COMMUNICATION : 3.2436085144723505\n",
      "HEALTH_AND_FITNESS : 3.074670571010249\n",
      "PHOTOGRAPHY : 2.9507827458047076\n",
      "NEWS_AND_MAGAZINES : 2.8156323910350265\n",
      "SOCIAL : 2.657956977137065\n",
      "TRAVEL_AND_LOCAL : 2.331343619777002\n",
      "SHOPPING : 2.241243383263881\n",
      "BOOKS_AND_REFERENCE : 2.1624056763149007\n",
      "DATING : 1.8583173780831175\n",
      "VIDEO_PLAYERS : 1.7907422006982767\n",
      "MAPS_AND_NAVIGATION : 1.4078161955175132\n",
      "FOOD_AND_DRINK : 1.2388782520554116\n",
      "EDUCATION : 1.1600405451064308\n",
      "ENTERTAINMENT : 0.957315012951909\n",
      "LIBRARIES_AND_DEMO : 0.9347899538236288\n",
      "AUTO_AND_VEHICLES : 0.9235274242594886\n",
      "HOUSE_AND_HOME : 0.8221646581822277\n",
      "WEATHER : 0.7996395990539475\n",
      "EVENTS : 0.7095393625408267\n",
      "PARENTING : 0.6532267147201262\n",
      "ART_AND_DESIGN : 0.641964185155986\n",
      "COMICS : 0.6194391260277058\n",
      "BEAUTY : 0.5969140668994256\n"
     ]
    }
   ],
   "source": [
    "display_table(android_final, 1) # Category"
   ]
  },
  {
   "cell_type": "markdown",
   "metadata": {},
   "source": [
    "La principal diferencia que podemos ver es que no hay tantas apps destinadas al entretenimiento, y parece que un buen numero de apps esta diseñada a propositos practicos(familia, herramientas. estilo de vida, productividad,etc.). sin embargo si investigamos más podemos ver que la categoria familia(que tiene al rededor del 19%) son mayormente juegos para niños.\n",
    "\n",
    "Verifiquemos ahora el genero de las apps en el dataset."
   ]
  },
  {
   "cell_type": "code",
   "execution_count": 171,
   "metadata": {},
   "outputs": [
    {
     "name": "stdout",
     "output_type": "stream",
     "text": [
      "Tools : 8.435634643540938\n",
      "Entertainment : 6.0817659646356566\n",
      "Education : 5.360964072530691\n",
      "Business : 4.5951120621691635\n",
      "Lifestyle : 3.9080977587566164\n",
      "Productivity : 3.885572699628337\n",
      "Finance : 3.6941096970379546\n",
      "Medical : 3.525171753575853\n",
      "Sports : 3.4575965761910123\n",
      "Personalization : 3.322446221421331\n",
      "Communication : 3.2436085144723505\n",
      "Action : 3.097195630138529\n",
      "Health & Fitness : 3.074670571010249\n",
      "Photography : 2.9507827458047076\n",
      "News & Magazines : 2.8156323910350265\n",
      "Social : 2.657956977137065\n",
      "Travel & Local : 2.3200810902128617\n",
      "Shopping : 2.241243383263881\n",
      "Books & Reference : 2.1624056763149007\n",
      "Simulation : 2.038517851109359\n",
      "Dating : 1.8583173780831175\n",
      "Arcade : 1.8470548485189773\n",
      "Video Players & Editors : 1.7682171415699968\n",
      "Casual : 1.7569546120058566\n",
      "Maps & Navigation : 1.4078161955175132\n",
      "Food & Drink : 1.2388782520554116\n",
      "Puzzle : 1.1262529564140107\n",
      "Racing : 0.9911026016443293\n",
      "Role Playing : 0.9347899538236288\n",
      "Libraries & Demo : 0.9347899538236288\n",
      "Auto & Vehicles : 0.9235274242594886\n",
      "Strategy : 0.9122648946953484\n",
      "House & Home : 0.8221646581822277\n",
      "Weather : 0.7996395990539475\n",
      "Events : 0.7095393625408267\n",
      "Adventure : 0.6757517738484063\n",
      "Comics : 0.6081765964635657\n",
      "Beauty : 0.5969140668994256\n",
      "Art & Design : 0.5969140668994256\n",
      "Parenting : 0.49555130082216464\n",
      "Card : 0.45050118256560423\n",
      "Casino : 0.42797612343732405\n",
      "Trivia : 0.41671359387318396\n",
      "Educational;Education : 0.39418853474490373\n",
      "Board : 0.3829260051807636\n",
      "Educational : 0.3716634756166235\n",
      "Education;Education : 0.3378758869242032\n",
      "Word : 0.25903817997522244\n",
      "Casual;Pretend Play : 0.23651312084694223\n",
      "Music : 0.2027255321545219\n",
      "Racing;Action & Adventure : 0.1689379434621016\n",
      "Puzzle;Brain Games : 0.1689379434621016\n",
      "Entertainment;Music & Video : 0.1689379434621016\n",
      "Casual;Brain Games : 0.1351503547696813\n",
      "Casual;Action & Adventure : 0.1351503547696813\n",
      "Arcade;Action & Adventure : 0.12388782520554116\n",
      "Action;Action & Adventure : 0.10136276607726095\n",
      "Educational;Pretend Play : 0.09010023651312085\n",
      "Simulation;Action & Adventure : 0.07883770694898073\n",
      "Parenting;Education : 0.07883770694898073\n",
      "Entertainment;Brain Games : 0.07883770694898073\n",
      "Board;Brain Games : 0.07883770694898073\n",
      "Parenting;Music & Video : 0.06757517738484065\n",
      "Educational;Brain Games : 0.06757517738484065\n",
      "Casual;Creativity : 0.06757517738484065\n",
      "Art & Design;Creativity : 0.06757517738484065\n",
      "Education;Pretend Play : 0.05631264782070053\n",
      "Role Playing;Pretend Play : 0.045050118256560426\n",
      "Education;Creativity : 0.045050118256560426\n",
      "Role Playing;Action & Adventure : 0.03378758869242032\n",
      "Puzzle;Action & Adventure : 0.03378758869242032\n",
      "Entertainment;Creativity : 0.03378758869242032\n",
      "Entertainment;Action & Adventure : 0.03378758869242032\n",
      "Educational;Creativity : 0.03378758869242032\n",
      "Educational;Action & Adventure : 0.03378758869242032\n",
      "Education;Music & Video : 0.03378758869242032\n",
      "Education;Brain Games : 0.03378758869242032\n",
      "Education;Action & Adventure : 0.03378758869242032\n",
      "Adventure;Action & Adventure : 0.03378758869242032\n",
      "Video Players & Editors;Music & Video : 0.022525059128280213\n",
      "Sports;Action & Adventure : 0.022525059128280213\n",
      "Simulation;Pretend Play : 0.022525059128280213\n",
      "Puzzle;Creativity : 0.022525059128280213\n",
      "Music;Music & Video : 0.022525059128280213\n",
      "Entertainment;Pretend Play : 0.022525059128280213\n",
      "Casual;Education : 0.022525059128280213\n",
      "Board;Action & Adventure : 0.022525059128280213\n",
      "Video Players & Editors;Creativity : 0.011262529564140106\n",
      "Trivia;Education : 0.011262529564140106\n",
      "Travel & Local;Action & Adventure : 0.011262529564140106\n",
      "Tools;Education : 0.011262529564140106\n",
      "Strategy;Education : 0.011262529564140106\n",
      "Strategy;Creativity : 0.011262529564140106\n",
      "Strategy;Action & Adventure : 0.011262529564140106\n",
      "Simulation;Education : 0.011262529564140106\n",
      "Role Playing;Brain Games : 0.011262529564140106\n",
      "Racing;Pretend Play : 0.011262529564140106\n",
      "Puzzle;Education : 0.011262529564140106\n",
      "Parenting;Brain Games : 0.011262529564140106\n",
      "Music & Audio;Music & Video : 0.011262529564140106\n",
      "Lifestyle;Pretend Play : 0.011262529564140106\n",
      "Lifestyle;Education : 0.011262529564140106\n",
      "Health & Fitness;Education : 0.011262529564140106\n",
      "Health & Fitness;Action & Adventure : 0.011262529564140106\n",
      "Entertainment;Education : 0.011262529564140106\n",
      "Communication;Creativity : 0.011262529564140106\n",
      "Comics;Creativity : 0.011262529564140106\n",
      "Casual;Music & Video : 0.011262529564140106\n",
      "Card;Action & Adventure : 0.011262529564140106\n",
      "Books & Reference;Education : 0.011262529564140106\n",
      "Art & Design;Pretend Play : 0.011262529564140106\n",
      "Art & Design;Action & Adventure : 0.011262529564140106\n",
      "Arcade;Pretend Play : 0.011262529564140106\n",
      "Adventure;Education : 0.011262529564140106\n"
     ]
    }
   ],
   "source": [
    "display_table(android_final, -4) #Genero"
   ]
  },
  {
   "cell_type": "markdown",
   "metadata": {},
   "source": [
    "la diferencia entre las columnas Genero y Categoria no es muy clara, pero podemos notar que la columna Genero es un poco más granular(tiene más categorias). a partir de ahora solo usaremos la columna Categoria.\n",
    "\n",
    "hasta este punto encontramos que la App Store esta dominada por aplicaciones dideñadas para el entretenimiento, mientras que Google Play muestra más un mejor balance.\n",
    "\n",
    "    *APLICACIONES MAS POPULARES POR GENERO EN LA APP STORE*\n",
    "    \n",
    "Un modo de de saber que Generos son los más populares(tienen mayor numero de usuarios) is calcular el promedio de instalaciones de aplicaciones de cada genero. Para el data set de Google Play podemos encontrar esta informacion en la columna Installs, pero para el data set de App Store esta informacion no se encuentra. Tomaremos como el total de numero de usuarios que rankearon cada app, esta info esta en la columna rating_count_tot.\n",
    "\n",
    "Ahora calculamos el promedio de raitings por genero en el App Store."
   ]
  },
  {
   "cell_type": "code",
   "execution_count": 172,
   "metadata": {},
   "outputs": [
    {
     "name": "stdout",
     "output_type": "stream",
     "text": [
      "Productivity : 19053.887096774193\n",
      "Weather : 47220.93548387097\n",
      "Shopping : 18746.677685950413\n",
      "Reference : 67447.9\n",
      "Finance : 13522.261904761905\n",
      "Music : 56482.02985074627\n",
      "Utilities : 14010.100917431193\n",
      "Travel : 20216.01785714286\n",
      "Social Networking : 53078.195804195806\n",
      "Sports : 20128.974683544304\n",
      "Health & Fitness : 19952.315789473683\n",
      "Games : 18924.68896765618\n",
      "Food & Drink : 20179.093023255813\n",
      "News : 15892.724137931034\n",
      "Book : 8498.333333333334\n",
      "Photo & Video : 27249.892215568863\n",
      "Entertainment : 10822.961077844311\n",
      "Business : 6367.8\n",
      "Lifestyle : 8978.308510638299\n",
      "Education : 6266.333333333333\n",
      "Navigation : 25972.05\n",
      "Medical : 459.75\n",
      "Catalogs : 1779.5555555555557\n"
     ]
    }
   ],
   "source": [
    "genres_ios = freq_table(ios_final, -5)\n",
    "\n",
    "for genre in genres_ios:\n",
    "    total = 0\n",
    "    len_genre = 0\n",
    "    for app in ios_final:\n",
    "        genre_app = app[-5]\n",
    "        if genre_app == genre:            \n",
    "            n_ratings = float(app[6])\n",
    "            total += n_ratings\n",
    "            len_genre += 1\n",
    "\n",
    "    avg_n_ratings = total / len_genre\n",
    "    print(genre, ':', avg_n_ratings)"
   ]
  },
  {
   "cell_type": "markdown",
   "metadata": {},
   "source": [
    "en promedio las aplicaciones para navegar tiene el numero mas alto de revisionespero este numero esta fuertemente influenciado por WASE y Google Maps que tienen cerca de la mitad de las revisiones juntas:"
   ]
  },
  {
   "cell_type": "code",
   "execution_count": 173,
   "metadata": {},
   "outputs": [
    {
     "name": "stdout",
     "output_type": "stream",
     "text": [
      "Waze - GPS Navigation, Maps & Real-time Traffic : 345046\n",
      "Geocaching® : 12811\n",
      "ImmobilienScout24: Real Estate Search in Germany : 187\n",
      "恵方コンパス. : 0\n",
      "ナビタイム ドライブサポーター - NAVITIMEのカーナビアプリ : 0\n",
      "自転車ナビ by NAVITIME(ナビタイム) - 自転車のナビができるアプリ : 0\n",
      "百度地图-智能的手机导航，公交地铁出行必备 : 1014\n",
      "高德地图（精准专业的手机地图） : 1040\n",
      "Railway Route Search : 5\n",
      "CoPilot GPS – Car Navigation & Offline Maps : 3582\n",
      "ナビタイムの乗り換え案内 - 遅延情報やバス時刻表を案内するアプリ : 48\n",
      "百度地图HD : 771\n",
      "高德地图HD : 26\n",
      "Google Maps - Navigation & Transit : 154911\n",
      "JR東日本アプリ : 0\n",
      "NAVIRO(ナビロー) - カーナビ/バイクナビ/徒歩ナビが使える高性能ナビアプリ : 0\n",
      "ホラースポット-ghost spot-意味が分かると怖いマップ : 0\n",
      "バーチャル恵方巻【節分・恵方コンパス・方位】 : 0\n",
      "えほう - 最強の恵方コンパス : 0\n",
      "MapFan(マップファン) – 渋滞情報/オービス/オフライン対応の本格カーナビ : 0\n"
     ]
    }
   ],
   "source": [
    "for app in ios_final:\n",
    "    if app[-5] == 'Navigation':\n",
    "        print(app[2], ':', app[6]) # print name and number of ratings"
   ]
  },
  {
   "cell_type": "code",
   "execution_count": null,
   "metadata": {},
   "outputs": [],
   "source": [
    "el mismo patron aplica para aplicaciones de re"
   ]
  },
  {
   "cell_type": "code",
   "execution_count": 175,
   "metadata": {},
   "outputs": [
    {
     "name": "stdout",
     "output_type": "stream",
     "text": [
      "Bible : 985920\n",
      "Dictionary.com Dictionary & Thesaurus : 200047\n",
      "Dictionary.com Dictionary & Thesaurus for iPad : 54175\n",
      "Muslim Pro: Ramadan 2017 Prayer Times, Azan, Quran : 18418\n",
      "Merriam-Webster Dictionary : 16849\n",
      "Google Translate : 26786\n",
      "Night Sky : 12122\n",
      "WWDC : 762\n",
      "Jishokun-Japanese English Dictionary & Translator : 0\n",
      "教えて!goo : 0\n",
      "VPN Express : 14\n",
      "彩库宝典-【官方版】 : 0\n",
      "New Furniture Mods - Pocket Wiki & Game Tools for Minecraft PC Edition : 17588\n",
      "LUCKY BLOCK MOD ™ for Minecraft PC Edition - The Best Pocket Wiki & Mods Installer Tools : 4693\n",
      "Guides for Pokémon GO - Pokemon GO News and Cheats : 826\n",
      "Horror Maps for Minecraft PE - Download The Scariest Maps for Minecraft Pocket Edition (MCPE) Free : 718\n",
      "City Maps for Minecraft PE - The Best Maps for Minecraft Pocket Edition (MCPE) : 8535\n",
      "GUNS MODS for Minecraft PC Edition - Mods Tools : 1497\n",
      "Real Bike Traffic Rider Virtual Reality Glasses : 8\n",
      "無料で音楽や写真・カメラの裏技アプリ for iPhone7 : 0\n"
     ]
    }
   ],
   "source": [
    "for app in ios_final:\n",
    "    if app[-5] == 'Reference':\n",
    "        print(app[2], ':', app[6])"
   ]
  },
  {
   "cell_type": "code",
   "execution_count": null,
   "metadata": {},
   "outputs": [],
   "source": []
  }
 ],
 "metadata": {
  "kernelspec": {
   "display_name": "Python 3",
   "language": "python",
   "name": "python3"
  },
  "language_info": {
   "codemirror_mode": {
    "name": "ipython",
    "version": 3
   },
   "file_extension": ".py",
   "mimetype": "text/x-python",
   "name": "python",
   "nbconvert_exporter": "python",
   "pygments_lexer": "ipython3",
   "version": "3.7.1"
  }
 },
 "nbformat": 4,
 "nbformat_minor": 2
}
